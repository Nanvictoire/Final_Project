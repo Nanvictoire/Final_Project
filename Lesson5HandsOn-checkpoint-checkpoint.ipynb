{
 "cells": [
  {
   "cell_type": "markdown",
   "id": "d2e0dbdc",
   "metadata": {},
   "source": [
    "## COVID-19 seroprevalence"
   ]
  },
  {
   "cell_type": "code",
   "execution_count": 1,
   "id": "9067e4f5",
   "metadata": {},
   "outputs": [],
   "source": [
    "import pandas as pd\n",
    "import numpy as np\n",
    "import matplotlib.pyplot as plt\n",
    "import seaborn as sns\n",
    "import plotly.express as px\n",
    "from datetime import datetime\n",
    "from scipy import stats\n",
    "from scipy.stats import ttest_ind\n",
    "from scipy.stats import norm\n",
    "%matplotlib inline\n",
    "from sklearn.cluster import KMeans"
   ]
  },
  {
   "cell_type": "code",
   "execution_count": 2,
   "id": "65554cbe",
   "metadata": {},
   "outputs": [],
   "source": [
    "Blood_Donor_Seroprevalence = pd.read_csv(\"Blood_Donor_Seroprevalence.csv\")"
   ]
  },
  {
   "cell_type": "code",
   "execution_count": 3,
   "id": "72efae99",
   "metadata": {},
   "outputs": [
    {
     "data": {
      "text/html": [
       "<div>\n",
       "<style scoped>\n",
       "    .dataframe tbody tr th:only-of-type {\n",
       "        vertical-align: middle;\n",
       "    }\n",
       "\n",
       "    .dataframe tbody tr th {\n",
       "        vertical-align: top;\n",
       "    }\n",
       "\n",
       "    .dataframe thead th {\n",
       "        text-align: right;\n",
       "    }\n",
       "</style>\n",
       "<table border=\"1\" class=\"dataframe\">\n",
       "  <thead>\n",
       "    <tr style=\"text-align: right;\">\n",
       "      <th></th>\n",
       "      <th>Region</th>\n",
       "      <th>Region Abbreviation</th>\n",
       "      <th>Year and Month</th>\n",
       "      <th>Median \\nDonation Date</th>\n",
       "      <th>n [Total Prevalence]</th>\n",
       "      <th>Rate %[Total Prevalence]</th>\n",
       "      <th>Lower CI %[Total Prevalence]</th>\n",
       "      <th>Upper CI  %[Total Prevalence]</th>\n",
       "      <th>n [16-29 Years Prevalence]</th>\n",
       "      <th>Rate (%) [16-29 Years Prevalence]</th>\n",
       "      <th>...</th>\n",
       "      <th>Lower CI (%) [Asian Prevalence]</th>\n",
       "      <th>Upper CI (%) [Asian Prevalence]</th>\n",
       "      <th>n [Hispanic Prevalence]</th>\n",
       "      <th>Rate (%) [Hispanic Prevalence]</th>\n",
       "      <th>Lower CI (%) [Hispanic Prevalence]</th>\n",
       "      <th>Upper CI (%) [Hispanic Prevalence]</th>\n",
       "      <th>n [Other Race Prevalence]</th>\n",
       "      <th>Rate (%) [Other Race Prevalence]</th>\n",
       "      <th>Lower CI (%) [Other Race Prevalence]</th>\n",
       "      <th>Upper CI (%) [Other Race Prevalence]</th>\n",
       "    </tr>\n",
       "  </thead>\n",
       "  <tbody>\n",
       "    <tr>\n",
       "      <th>0</th>\n",
       "      <td>Alabama Region</td>\n",
       "      <td>AL</td>\n",
       "      <td>2020-07</td>\n",
       "      <td>7/13/2020</td>\n",
       "      <td>1422</td>\n",
       "      <td>2.0</td>\n",
       "      <td>1.1</td>\n",
       "      <td>3.6</td>\n",
       "      <td>179</td>\n",
       "      <td>5.2</td>\n",
       "      <td>...</td>\n",
       "      <td>0.0</td>\n",
       "      <td>25.9</td>\n",
       "      <td>21.0</td>\n",
       "      <td>3.9</td>\n",
       "      <td>0.6</td>\n",
       "      <td>21.5</td>\n",
       "      <td>12.0</td>\n",
       "      <td>4.0</td>\n",
       "      <td>0.4</td>\n",
       "      <td>29.9</td>\n",
       "    </tr>\n",
       "    <tr>\n",
       "      <th>1</th>\n",
       "      <td>Central Kentucky Region</td>\n",
       "      <td>KY</td>\n",
       "      <td>2020-07</td>\n",
       "      <td>7/13/2020</td>\n",
       "      <td>1070</td>\n",
       "      <td>1.4</td>\n",
       "      <td>0.8</td>\n",
       "      <td>2.5</td>\n",
       "      <td>136</td>\n",
       "      <td>1.7</td>\n",
       "      <td>...</td>\n",
       "      <td>0.0</td>\n",
       "      <td>29.9</td>\n",
       "      <td>17.0</td>\n",
       "      <td>0.0</td>\n",
       "      <td>0.0</td>\n",
       "      <td>18.4</td>\n",
       "      <td>12.0</td>\n",
       "      <td>0.0</td>\n",
       "      <td>0.0</td>\n",
       "      <td>24.2</td>\n",
       "    </tr>\n",
       "    <tr>\n",
       "      <th>2</th>\n",
       "      <td>Central Maryland and National Capital Region</td>\n",
       "      <td>MD</td>\n",
       "      <td>2020-07</td>\n",
       "      <td>7/14/2020</td>\n",
       "      <td>3599</td>\n",
       "      <td>2.4</td>\n",
       "      <td>1.5</td>\n",
       "      <td>3.7</td>\n",
       "      <td>480</td>\n",
       "      <td>4.2</td>\n",
       "      <td>...</td>\n",
       "      <td>0.8</td>\n",
       "      <td>7.3</td>\n",
       "      <td>103.0</td>\n",
       "      <td>6.7</td>\n",
       "      <td>2.4</td>\n",
       "      <td>17.5</td>\n",
       "      <td>89.0</td>\n",
       "      <td>6.1</td>\n",
       "      <td>2.3</td>\n",
       "      <td>15.2</td>\n",
       "    </tr>\n",
       "    <tr>\n",
       "      <th>3</th>\n",
       "      <td>Central Missouri and St. Louis Region</td>\n",
       "      <td>MO</td>\n",
       "      <td>2020-07</td>\n",
       "      <td>7/13/2020</td>\n",
       "      <td>1230</td>\n",
       "      <td>0.7</td>\n",
       "      <td>0.2</td>\n",
       "      <td>1.8</td>\n",
       "      <td>136</td>\n",
       "      <td>1.6</td>\n",
       "      <td>...</td>\n",
       "      <td>0.0</td>\n",
       "      <td>29.9</td>\n",
       "      <td>10.0</td>\n",
       "      <td>0.0</td>\n",
       "      <td>0.0</td>\n",
       "      <td>27.8</td>\n",
       "      <td>14.0</td>\n",
       "      <td>0.0</td>\n",
       "      <td>0.0</td>\n",
       "      <td>21.5</td>\n",
       "    </tr>\n",
       "    <tr>\n",
       "      <th>4</th>\n",
       "      <td>Central Tennessee Region</td>\n",
       "      <td>TN-1</td>\n",
       "      <td>2020-07</td>\n",
       "      <td>7/14/2020</td>\n",
       "      <td>1439</td>\n",
       "      <td>2.6</td>\n",
       "      <td>1.7</td>\n",
       "      <td>4.0</td>\n",
       "      <td>216</td>\n",
       "      <td>4.1</td>\n",
       "      <td>...</td>\n",
       "      <td>0.8</td>\n",
       "      <td>24.0</td>\n",
       "      <td>27.0</td>\n",
       "      <td>0.0</td>\n",
       "      <td>0.0</td>\n",
       "      <td>12.5</td>\n",
       "      <td>22.0</td>\n",
       "      <td>7.7</td>\n",
       "      <td>1.9</td>\n",
       "      <td>26.2</td>\n",
       "    </tr>\n",
       "    <tr>\n",
       "      <th>5</th>\n",
       "      <td>Central and Eastern South Carolina Region</td>\n",
       "      <td>SC</td>\n",
       "      <td>2020-07</td>\n",
       "      <td>7/14/2020</td>\n",
       "      <td>1931</td>\n",
       "      <td>2.5</td>\n",
       "      <td>1.6</td>\n",
       "      <td>3.9</td>\n",
       "      <td>162</td>\n",
       "      <td>4.1</td>\n",
       "      <td>...</td>\n",
       "      <td>1.5</td>\n",
       "      <td>28.8</td>\n",
       "      <td>32.0</td>\n",
       "      <td>4.0</td>\n",
       "      <td>0.7</td>\n",
       "      <td>19.8</td>\n",
       "      <td>17.0</td>\n",
       "      <td>0.0</td>\n",
       "      <td>0.0</td>\n",
       "      <td>18.4</td>\n",
       "    </tr>\n",
       "    <tr>\n",
       "      <th>6</th>\n",
       "      <td>Central and Northern Arizona Region</td>\n",
       "      <td>AZ-1</td>\n",
       "      <td>2020-07</td>\n",
       "      <td>7/16/2020</td>\n",
       "      <td>2489</td>\n",
       "      <td>3.4</td>\n",
       "      <td>2.4</td>\n",
       "      <td>4.9</td>\n",
       "      <td>235</td>\n",
       "      <td>6.9</td>\n",
       "      <td>...</td>\n",
       "      <td>0.1</td>\n",
       "      <td>8.7</td>\n",
       "      <td>265.0</td>\n",
       "      <td>6.9</td>\n",
       "      <td>3.9</td>\n",
       "      <td>12.0</td>\n",
       "      <td>36.0</td>\n",
       "      <td>0.0</td>\n",
       "      <td>0.0</td>\n",
       "      <td>9.6</td>\n",
       "    </tr>\n",
       "    <tr>\n",
       "      <th>7</th>\n",
       "      <td>Central and Southern Indiana Region</td>\n",
       "      <td>IN</td>\n",
       "      <td>2020-07</td>\n",
       "      <td>7/14/2020</td>\n",
       "      <td>793</td>\n",
       "      <td>0.5</td>\n",
       "      <td>0.2</td>\n",
       "      <td>1.3</td>\n",
       "      <td>96</td>\n",
       "      <td>0.0</td>\n",
       "      <td>...</td>\n",
       "      <td>0.0</td>\n",
       "      <td>65.8</td>\n",
       "      <td>6.0</td>\n",
       "      <td>0.0</td>\n",
       "      <td>0.0</td>\n",
       "      <td>39.0</td>\n",
       "      <td>6.0</td>\n",
       "      <td>0.0</td>\n",
       "      <td>0.0</td>\n",
       "      <td>39.0</td>\n",
       "    </tr>\n",
       "    <tr>\n",
       "      <th>8</th>\n",
       "      <td>Central and Southern Ohio Region</td>\n",
       "      <td>OH-2</td>\n",
       "      <td>2020-07</td>\n",
       "      <td>7/14/2020</td>\n",
       "      <td>2004</td>\n",
       "      <td>1.1</td>\n",
       "      <td>0.6</td>\n",
       "      <td>2.3</td>\n",
       "      <td>252</td>\n",
       "      <td>3.5</td>\n",
       "      <td>...</td>\n",
       "      <td>0.0</td>\n",
       "      <td>12.9</td>\n",
       "      <td>13.0</td>\n",
       "      <td>0.0</td>\n",
       "      <td>0.0</td>\n",
       "      <td>22.8</td>\n",
       "      <td>26.0</td>\n",
       "      <td>6.8</td>\n",
       "      <td>1.2</td>\n",
       "      <td>31.2</td>\n",
       "    </tr>\n",
       "    <tr>\n",
       "      <th>9</th>\n",
       "      <td>Central and Western North Carolina Region</td>\n",
       "      <td>NC</td>\n",
       "      <td>2020-07</td>\n",
       "      <td>7/14/2020</td>\n",
       "      <td>4151</td>\n",
       "      <td>1.4</td>\n",
       "      <td>0.9</td>\n",
       "      <td>2.1</td>\n",
       "      <td>442</td>\n",
       "      <td>2.7</td>\n",
       "      <td>...</td>\n",
       "      <td>0.0</td>\n",
       "      <td>6.4</td>\n",
       "      <td>72.0</td>\n",
       "      <td>3.5</td>\n",
       "      <td>0.9</td>\n",
       "      <td>12.4</td>\n",
       "      <td>67.0</td>\n",
       "      <td>0.7</td>\n",
       "      <td>0.1</td>\n",
       "      <td>6.6</td>\n",
       "    </tr>\n",
       "  </tbody>\n",
       "</table>\n",
       "<p>10 rows × 52 columns</p>\n",
       "</div>"
      ],
      "text/plain": [
       "                                         Region Region Abbreviation  \\\n",
       "0                                Alabama Region                  AL   \n",
       "1                       Central Kentucky Region                  KY   \n",
       "2  Central Maryland and National Capital Region                  MD   \n",
       "3         Central Missouri and St. Louis Region                  MO   \n",
       "4                      Central Tennessee Region                TN-1   \n",
       "5     Central and Eastern South Carolina Region                  SC   \n",
       "6           Central and Northern Arizona Region                AZ-1   \n",
       "7           Central and Southern Indiana Region                  IN   \n",
       "8              Central and Southern Ohio Region                OH-2   \n",
       "9     Central and Western North Carolina Region                  NC   \n",
       "\n",
       "  Year and Month Median \\nDonation Date  n [Total Prevalence]  \\\n",
       "0        2020-07              7/13/2020                  1422   \n",
       "1        2020-07              7/13/2020                  1070   \n",
       "2        2020-07              7/14/2020                  3599   \n",
       "3        2020-07              7/13/2020                  1230   \n",
       "4        2020-07              7/14/2020                  1439   \n",
       "5        2020-07              7/14/2020                  1931   \n",
       "6        2020-07              7/16/2020                  2489   \n",
       "7        2020-07              7/14/2020                   793   \n",
       "8        2020-07              7/14/2020                  2004   \n",
       "9        2020-07              7/14/2020                  4151   \n",
       "\n",
       "   Rate %[Total Prevalence]  Lower CI %[Total Prevalence]  \\\n",
       "0                       2.0                           1.1   \n",
       "1                       1.4                           0.8   \n",
       "2                       2.4                           1.5   \n",
       "3                       0.7                           0.2   \n",
       "4                       2.6                           1.7   \n",
       "5                       2.5                           1.6   \n",
       "6                       3.4                           2.4   \n",
       "7                       0.5                           0.2   \n",
       "8                       1.1                           0.6   \n",
       "9                       1.4                           0.9   \n",
       "\n",
       "   Upper CI  %[Total Prevalence]  n [16-29 Years Prevalence]  \\\n",
       "0                            3.6                         179   \n",
       "1                            2.5                         136   \n",
       "2                            3.7                         480   \n",
       "3                            1.8                         136   \n",
       "4                            4.0                         216   \n",
       "5                            3.9                         162   \n",
       "6                            4.9                         235   \n",
       "7                            1.3                          96   \n",
       "8                            2.3                         252   \n",
       "9                            2.1                         442   \n",
       "\n",
       "   Rate (%) [16-29 Years Prevalence]  ...  Lower CI (%) [Asian Prevalence]  \\\n",
       "0                                5.2  ...                              0.0   \n",
       "1                                1.7  ...                              0.0   \n",
       "2                                4.2  ...                              0.8   \n",
       "3                                1.6  ...                              0.0   \n",
       "4                                4.1  ...                              0.8   \n",
       "5                                4.1  ...                              1.5   \n",
       "6                                6.9  ...                              0.1   \n",
       "7                                0.0  ...                              0.0   \n",
       "8                                3.5  ...                              0.0   \n",
       "9                                2.7  ...                              0.0   \n",
       "\n",
       "   Upper CI (%) [Asian Prevalence]  n [Hispanic Prevalence]  \\\n",
       "0                             25.9                     21.0   \n",
       "1                             29.9                     17.0   \n",
       "2                              7.3                    103.0   \n",
       "3                             29.9                     10.0   \n",
       "4                             24.0                     27.0   \n",
       "5                             28.8                     32.0   \n",
       "6                              8.7                    265.0   \n",
       "7                             65.8                      6.0   \n",
       "8                             12.9                     13.0   \n",
       "9                              6.4                     72.0   \n",
       "\n",
       "   Rate (%) [Hispanic Prevalence]  Lower CI (%) [Hispanic Prevalence]  \\\n",
       "0                             3.9                                 0.6   \n",
       "1                             0.0                                 0.0   \n",
       "2                             6.7                                 2.4   \n",
       "3                             0.0                                 0.0   \n",
       "4                             0.0                                 0.0   \n",
       "5                             4.0                                 0.7   \n",
       "6                             6.9                                 3.9   \n",
       "7                             0.0                                 0.0   \n",
       "8                             0.0                                 0.0   \n",
       "9                             3.5                                 0.9   \n",
       "\n",
       "   Upper CI (%) [Hispanic Prevalence]  n [Other Race Prevalence]  \\\n",
       "0                                21.5                       12.0   \n",
       "1                                18.4                       12.0   \n",
       "2                                17.5                       89.0   \n",
       "3                                27.8                       14.0   \n",
       "4                                12.5                       22.0   \n",
       "5                                19.8                       17.0   \n",
       "6                                12.0                       36.0   \n",
       "7                                39.0                        6.0   \n",
       "8                                22.8                       26.0   \n",
       "9                                12.4                       67.0   \n",
       "\n",
       "   Rate (%) [Other Race Prevalence]  Lower CI (%) [Other Race Prevalence]  \\\n",
       "0                               4.0                                   0.4   \n",
       "1                               0.0                                   0.0   \n",
       "2                               6.1                                   2.3   \n",
       "3                               0.0                                   0.0   \n",
       "4                               7.7                                   1.9   \n",
       "5                               0.0                                   0.0   \n",
       "6                               0.0                                   0.0   \n",
       "7                               0.0                                   0.0   \n",
       "8                               6.8                                   1.2   \n",
       "9                               0.7                                   0.1   \n",
       "\n",
       "   Upper CI (%) [Other Race Prevalence]  \n",
       "0                                  29.9  \n",
       "1                                  24.2  \n",
       "2                                  15.2  \n",
       "3                                  21.5  \n",
       "4                                  26.2  \n",
       "5                                  18.4  \n",
       "6                                   9.6  \n",
       "7                                  39.0  \n",
       "8                                  31.2  \n",
       "9                                   6.6  \n",
       "\n",
       "[10 rows x 52 columns]"
      ]
     },
     "execution_count": 3,
     "metadata": {},
     "output_type": "execute_result"
    }
   ],
   "source": [
    "Blood_Donor_Seroprevalence.head(10)"
   ]
  },
  {
   "cell_type": "code",
   "execution_count": 4,
   "id": "f64fe37d",
   "metadata": {},
   "outputs": [
    {
     "name": "stdout",
     "output_type": "stream",
     "text": [
      "<class 'pandas.core.frame.DataFrame'>\n",
      "RangeIndex: 1270 entries, 0 to 1269\n",
      "Data columns (total 52 columns):\n",
      " #   Column                                 Non-Null Count  Dtype  \n",
      "---  ------                                 --------------  -----  \n",
      " 0   Region                                 1270 non-null   object \n",
      " 1   Region Abbreviation                    1270 non-null   object \n",
      " 2   Year and Month                         1270 non-null   object \n",
      " 3   Median \n",
      "Donation Date                  1270 non-null   object \n",
      " 4   n [Total Prevalence]                   1270 non-null   int64  \n",
      " 5   Rate %[Total Prevalence]               1270 non-null   float64\n",
      " 6   Lower CI %[Total Prevalence]           1270 non-null   float64\n",
      " 7   Upper CI  %[Total Prevalence]          1270 non-null   float64\n",
      " 8   n [16-29 Years Prevalence]             1270 non-null   int64  \n",
      " 9   Rate (%) [16-29 Years Prevalence]      1270 non-null   float64\n",
      " 10  Lower CI (%) [16-29 Years Prevalence]  1270 non-null   float64\n",
      " 11  Upper CI (%) [16-29 Years Prevalence]  1270 non-null   float64\n",
      " 12  n [30-49 Years Prevalence]             1270 non-null   int64  \n",
      " 13  Rate (%) [30-49 Years Prevalence]      1270 non-null   float64\n",
      " 14  Lower CI (%) [30-49 Years Prevalence]  1270 non-null   float64\n",
      " 15  Upper CI (%) [30-49 Years Prevalence]  1270 non-null   float64\n",
      " 16  n [50-64 Years Prevalence]             1270 non-null   int64  \n",
      " 17  Rate (%) [50-64 Years Prevalence]      1270 non-null   float64\n",
      " 18  Lower CI (%) [50-64 Years Prevalence]  1270 non-null   float64\n",
      " 19  Upper CI (%) [50-64 Years Prevalence]  1270 non-null   float64\n",
      " 20  n [ 65+ Years Prevalence]              1270 non-null   int64  \n",
      " 21  Rate (%) [65+ Years Prevalence]        1270 non-null   float64\n",
      " 22  Lower CI (%) [65+ Years Prevalence]    1270 non-null   float64\n",
      " 23  Upper CI (%) [65+ Years Prevalence]    1270 non-null   float64\n",
      " 24  n [Male Prevalence]                    1270 non-null   int64  \n",
      " 25  Rate (%) [Male Prevalence]             1270 non-null   float64\n",
      " 26  Lower CI (%) [Male Prevalence]         1270 non-null   float64\n",
      " 27  Upper CI (%) [Male Prevalence]         1270 non-null   float64\n",
      " 28  n [Female Prevalence]                  1270 non-null   int64  \n",
      " 29  Rate (%) [Female Prevalence]           1270 non-null   float64\n",
      " 30  Lower CI (%) [Female Prevalence]       1270 non-null   float64\n",
      " 31  Upper CI (%) [Female Prevalence]       1270 non-null   float64\n",
      " 32  n [White Prevalence]                   1252 non-null   float64\n",
      " 33  Rate (%) [White Prevalence]            1252 non-null   float64\n",
      " 34  Lower CI (%) [White Prevalence]        1252 non-null   float64\n",
      " 35  Upper CI (%) [White Prevalence]        1252 non-null   float64\n",
      " 36  n [Black Prevalence]                   1252 non-null   float64\n",
      " 37  Rate (%) [Black Prevalence]            1245 non-null   float64\n",
      " 38  Lower CI (%) [Black Prevalence]        1245 non-null   float64\n",
      " 39  Upper CI (%) [Black Prevalence]        1245 non-null   float64\n",
      " 40  n [Asian Prevalence]                   1252 non-null   float64\n",
      " 41  Rate (%) [Asian Prevalence]            1250 non-null   float64\n",
      " 42  Lower CI (%) [Asian Prevalence]        1250 non-null   float64\n",
      " 43  Upper CI (%) [Asian Prevalence]        1250 non-null   float64\n",
      " 44  n [Hispanic Prevalence]                1234 non-null   float64\n",
      " 45  Rate (%) [Hispanic Prevalence]         1234 non-null   float64\n",
      " 46  Lower CI (%) [Hispanic Prevalence]     1234 non-null   float64\n",
      " 47  Upper CI (%) [Hispanic Prevalence]     1234 non-null   float64\n",
      " 48  n [Other Race Prevalence]              1252 non-null   float64\n",
      " 49  Rate (%) [Other Race Prevalence]       1251 non-null   float64\n",
      " 50  Lower CI (%) [Other Race Prevalence]   1251 non-null   float64\n",
      " 51  Upper CI (%) [Other Race Prevalence]   1251 non-null   float64\n",
      "dtypes: float64(41), int64(7), object(4)\n",
      "memory usage: 516.1+ KB\n"
     ]
    }
   ],
   "source": [
    "Blood_Donor_Seroprevalence.info()"
   ]
  },
  {
   "cell_type": "code",
   "execution_count": 5,
   "id": "9ac556a3",
   "metadata": {},
   "outputs": [
    {
     "data": {
      "text/plain": [
       "1270"
      ]
     },
     "execution_count": 5,
     "metadata": {},
     "output_type": "execute_result"
    }
   ],
   "source": [
    "Blood_Donor_Seroprevalence.Region.value_counts().sum()"
   ]
  },
  {
   "cell_type": "code",
   "execution_count": 6,
   "id": "0aaffb46",
   "metadata": {},
   "outputs": [
    {
     "data": {
      "text/plain": [
       "count      1270.000000\n",
       "mean       5671.902362\n",
       "std       17109.337638\n",
       "min         156.000000\n",
       "25%        1453.500000\n",
       "50%        1923.500000\n",
       "75%        2762.750000\n",
       "max      140630.000000\n",
       "Name: n [Total Prevalence], dtype: float64"
      ]
     },
     "execution_count": 6,
     "metadata": {},
     "output_type": "execute_result"
    }
   ],
   "source": [
    "Blood_Donor_Seroprevalence['n [Total Prevalence]'].describe()"
   ]
  },
  {
   "cell_type": "markdown",
   "id": "e086932e",
   "metadata": {},
   "source": [
    "## Wrangling Data"
   ]
  },
  {
   "cell_type": "code",
   "execution_count": 7,
   "id": "ee04c8e2",
   "metadata": {},
   "outputs": [],
   "source": [
    "Blood_Donor_Seroprevalence.rename(columns={'n [Total Prevalence]':'n Total Prevalence'}, inplace=True)"
   ]
  },
  {
   "cell_type": "code",
   "execution_count": 8,
   "id": "20db7a5d",
   "metadata": {},
   "outputs": [
    {
     "data": {
      "text/html": [
       "<div>\n",
       "<style scoped>\n",
       "    .dataframe tbody tr th:only-of-type {\n",
       "        vertical-align: middle;\n",
       "    }\n",
       "\n",
       "    .dataframe tbody tr th {\n",
       "        vertical-align: top;\n",
       "    }\n",
       "\n",
       "    .dataframe thead th {\n",
       "        text-align: right;\n",
       "    }\n",
       "</style>\n",
       "<table border=\"1\" class=\"dataframe\">\n",
       "  <thead>\n",
       "    <tr style=\"text-align: right;\">\n",
       "      <th></th>\n",
       "      <th>Region</th>\n",
       "      <th>Region Abbreviation</th>\n",
       "      <th>Year and Month</th>\n",
       "      <th>Median \\nDonation Date</th>\n",
       "      <th>n Total Prevalence</th>\n",
       "      <th>Rate %[Total Prevalence]</th>\n",
       "      <th>Lower CI %[Total Prevalence]</th>\n",
       "      <th>Upper CI  %[Total Prevalence]</th>\n",
       "      <th>n [16-29 Years Prevalence]</th>\n",
       "      <th>Rate (%) [16-29 Years Prevalence]</th>\n",
       "      <th>...</th>\n",
       "      <th>Lower CI (%) [Asian Prevalence]</th>\n",
       "      <th>Upper CI (%) [Asian Prevalence]</th>\n",
       "      <th>n [Hispanic Prevalence]</th>\n",
       "      <th>Rate (%) [Hispanic Prevalence]</th>\n",
       "      <th>Lower CI (%) [Hispanic Prevalence]</th>\n",
       "      <th>Upper CI (%) [Hispanic Prevalence]</th>\n",
       "      <th>n [Other Race Prevalence]</th>\n",
       "      <th>Rate (%) [Other Race Prevalence]</th>\n",
       "      <th>Lower CI (%) [Other Race Prevalence]</th>\n",
       "      <th>Upper CI (%) [Other Race Prevalence]</th>\n",
       "    </tr>\n",
       "  </thead>\n",
       "  <tbody>\n",
       "    <tr>\n",
       "      <th>0</th>\n",
       "      <td>Alabama Region</td>\n",
       "      <td>AL</td>\n",
       "      <td>2020-07</td>\n",
       "      <td>7/13/2020</td>\n",
       "      <td>1422</td>\n",
       "      <td>2.0</td>\n",
       "      <td>1.1</td>\n",
       "      <td>3.6</td>\n",
       "      <td>179</td>\n",
       "      <td>5.2</td>\n",
       "      <td>...</td>\n",
       "      <td>0.0</td>\n",
       "      <td>25.9</td>\n",
       "      <td>21.0</td>\n",
       "      <td>3.9</td>\n",
       "      <td>0.6</td>\n",
       "      <td>21.5</td>\n",
       "      <td>12.0</td>\n",
       "      <td>4.0</td>\n",
       "      <td>0.4</td>\n",
       "      <td>29.9</td>\n",
       "    </tr>\n",
       "    <tr>\n",
       "      <th>1</th>\n",
       "      <td>Central Kentucky Region</td>\n",
       "      <td>KY</td>\n",
       "      <td>2020-07</td>\n",
       "      <td>7/13/2020</td>\n",
       "      <td>1070</td>\n",
       "      <td>1.4</td>\n",
       "      <td>0.8</td>\n",
       "      <td>2.5</td>\n",
       "      <td>136</td>\n",
       "      <td>1.7</td>\n",
       "      <td>...</td>\n",
       "      <td>0.0</td>\n",
       "      <td>29.9</td>\n",
       "      <td>17.0</td>\n",
       "      <td>0.0</td>\n",
       "      <td>0.0</td>\n",
       "      <td>18.4</td>\n",
       "      <td>12.0</td>\n",
       "      <td>0.0</td>\n",
       "      <td>0.0</td>\n",
       "      <td>24.2</td>\n",
       "    </tr>\n",
       "    <tr>\n",
       "      <th>2</th>\n",
       "      <td>Central Maryland and National Capital Region</td>\n",
       "      <td>MD</td>\n",
       "      <td>2020-07</td>\n",
       "      <td>7/14/2020</td>\n",
       "      <td>3599</td>\n",
       "      <td>2.4</td>\n",
       "      <td>1.5</td>\n",
       "      <td>3.7</td>\n",
       "      <td>480</td>\n",
       "      <td>4.2</td>\n",
       "      <td>...</td>\n",
       "      <td>0.8</td>\n",
       "      <td>7.3</td>\n",
       "      <td>103.0</td>\n",
       "      <td>6.7</td>\n",
       "      <td>2.4</td>\n",
       "      <td>17.5</td>\n",
       "      <td>89.0</td>\n",
       "      <td>6.1</td>\n",
       "      <td>2.3</td>\n",
       "      <td>15.2</td>\n",
       "    </tr>\n",
       "    <tr>\n",
       "      <th>3</th>\n",
       "      <td>Central Missouri and St. Louis Region</td>\n",
       "      <td>MO</td>\n",
       "      <td>2020-07</td>\n",
       "      <td>7/13/2020</td>\n",
       "      <td>1230</td>\n",
       "      <td>0.7</td>\n",
       "      <td>0.2</td>\n",
       "      <td>1.8</td>\n",
       "      <td>136</td>\n",
       "      <td>1.6</td>\n",
       "      <td>...</td>\n",
       "      <td>0.0</td>\n",
       "      <td>29.9</td>\n",
       "      <td>10.0</td>\n",
       "      <td>0.0</td>\n",
       "      <td>0.0</td>\n",
       "      <td>27.8</td>\n",
       "      <td>14.0</td>\n",
       "      <td>0.0</td>\n",
       "      <td>0.0</td>\n",
       "      <td>21.5</td>\n",
       "    </tr>\n",
       "    <tr>\n",
       "      <th>4</th>\n",
       "      <td>Central Tennessee Region</td>\n",
       "      <td>TN-1</td>\n",
       "      <td>2020-07</td>\n",
       "      <td>7/14/2020</td>\n",
       "      <td>1439</td>\n",
       "      <td>2.6</td>\n",
       "      <td>1.7</td>\n",
       "      <td>4.0</td>\n",
       "      <td>216</td>\n",
       "      <td>4.1</td>\n",
       "      <td>...</td>\n",
       "      <td>0.8</td>\n",
       "      <td>24.0</td>\n",
       "      <td>27.0</td>\n",
       "      <td>0.0</td>\n",
       "      <td>0.0</td>\n",
       "      <td>12.5</td>\n",
       "      <td>22.0</td>\n",
       "      <td>7.7</td>\n",
       "      <td>1.9</td>\n",
       "      <td>26.2</td>\n",
       "    </tr>\n",
       "  </tbody>\n",
       "</table>\n",
       "<p>5 rows × 52 columns</p>\n",
       "</div>"
      ],
      "text/plain": [
       "                                         Region Region Abbreviation  \\\n",
       "0                                Alabama Region                  AL   \n",
       "1                       Central Kentucky Region                  KY   \n",
       "2  Central Maryland and National Capital Region                  MD   \n",
       "3         Central Missouri and St. Louis Region                  MO   \n",
       "4                      Central Tennessee Region                TN-1   \n",
       "\n",
       "  Year and Month Median \\nDonation Date  n Total Prevalence  \\\n",
       "0        2020-07              7/13/2020                1422   \n",
       "1        2020-07              7/13/2020                1070   \n",
       "2        2020-07              7/14/2020                3599   \n",
       "3        2020-07              7/13/2020                1230   \n",
       "4        2020-07              7/14/2020                1439   \n",
       "\n",
       "   Rate %[Total Prevalence]  Lower CI %[Total Prevalence]  \\\n",
       "0                       2.0                           1.1   \n",
       "1                       1.4                           0.8   \n",
       "2                       2.4                           1.5   \n",
       "3                       0.7                           0.2   \n",
       "4                       2.6                           1.7   \n",
       "\n",
       "   Upper CI  %[Total Prevalence]  n [16-29 Years Prevalence]  \\\n",
       "0                            3.6                         179   \n",
       "1                            2.5                         136   \n",
       "2                            3.7                         480   \n",
       "3                            1.8                         136   \n",
       "4                            4.0                         216   \n",
       "\n",
       "   Rate (%) [16-29 Years Prevalence]  ...  Lower CI (%) [Asian Prevalence]  \\\n",
       "0                                5.2  ...                              0.0   \n",
       "1                                1.7  ...                              0.0   \n",
       "2                                4.2  ...                              0.8   \n",
       "3                                1.6  ...                              0.0   \n",
       "4                                4.1  ...                              0.8   \n",
       "\n",
       "   Upper CI (%) [Asian Prevalence]  n [Hispanic Prevalence]  \\\n",
       "0                             25.9                     21.0   \n",
       "1                             29.9                     17.0   \n",
       "2                              7.3                    103.0   \n",
       "3                             29.9                     10.0   \n",
       "4                             24.0                     27.0   \n",
       "\n",
       "   Rate (%) [Hispanic Prevalence]  Lower CI (%) [Hispanic Prevalence]  \\\n",
       "0                             3.9                                 0.6   \n",
       "1                             0.0                                 0.0   \n",
       "2                             6.7                                 2.4   \n",
       "3                             0.0                                 0.0   \n",
       "4                             0.0                                 0.0   \n",
       "\n",
       "   Upper CI (%) [Hispanic Prevalence]  n [Other Race Prevalence]  \\\n",
       "0                                21.5                       12.0   \n",
       "1                                18.4                       12.0   \n",
       "2                                17.5                       89.0   \n",
       "3                                27.8                       14.0   \n",
       "4                                12.5                       22.0   \n",
       "\n",
       "   Rate (%) [Other Race Prevalence]  Lower CI (%) [Other Race Prevalence]  \\\n",
       "0                               4.0                                   0.4   \n",
       "1                               0.0                                   0.0   \n",
       "2                               6.1                                   2.3   \n",
       "3                               0.0                                   0.0   \n",
       "4                               7.7                                   1.9   \n",
       "\n",
       "   Upper CI (%) [Other Race Prevalence]  \n",
       "0                                  29.9  \n",
       "1                                  24.2  \n",
       "2                                  15.2  \n",
       "3                                  21.5  \n",
       "4                                  26.2  \n",
       "\n",
       "[5 rows x 52 columns]"
      ]
     },
     "execution_count": 8,
     "metadata": {},
     "output_type": "execute_result"
    }
   ],
   "source": [
    "Blood_Donor_Seroprevalence.head()"
   ]
  },
  {
   "cell_type": "code",
   "execution_count": 9,
   "id": "3d2f47dc",
   "metadata": {},
   "outputs": [],
   "source": [
    "Blood_Donor_Seroprevalence.rename(columns = {'Rate %[Total Prevalence]':'Rate % Total Prevalence'}, inplace=True)"
   ]
  },
  {
   "cell_type": "code",
   "execution_count": 10,
   "id": "d93bb3e8",
   "metadata": {},
   "outputs": [],
   "source": [
    "Blood_Donor_Seroprevalence.rename(columns = {'Lower CI %[Total Prevalence]':'Lower CI % Total Prevalence'}, inplace=True)"
   ]
  },
  {
   "cell_type": "code",
   "execution_count": 11,
   "id": "3f4842e8",
   "metadata": {},
   "outputs": [],
   "source": [
    "Blood_Donor_Seroprevalence.rename(columns = {'Upper CI  %[Total Prevalence]':'Upper CI  % Total Prevalence'}, inplace=True)"
   ]
  },
  {
   "cell_type": "code",
   "execution_count": 12,
   "id": "9ae9219e",
   "metadata": {},
   "outputs": [],
   "source": [
    "Blood_Donor_Seroprevalence.rename(columns = {'n [16-29 Years Prevalence]':'n 16-29 Years Prevalence'}, inplace=True)"
   ]
  },
  {
   "cell_type": "code",
   "execution_count": 13,
   "id": "7557bf64",
   "metadata": {},
   "outputs": [],
   "source": [
    "Blood_Donor_Seroprevalence.rename(columns = {'Rate (%) [16-29 Years Prevalence]':'Rate % 16-29 Years Prevalence'}, inplace=True)"
   ]
  },
  {
   "cell_type": "code",
   "execution_count": 14,
   "id": "a58d3325",
   "metadata": {},
   "outputs": [],
   "source": [
    "Blood_Donor_Seroprevalence.rename(columns = {'Lower CI (%) [16-29 Years Prevalence]':'Lower CI % 16-29 Years Prevalence'}, inplace=True)"
   ]
  },
  {
   "cell_type": "code",
   "execution_count": 15,
   "id": "1998fe1a",
   "metadata": {},
   "outputs": [],
   "source": [
    "Blood_Donor_Seroprevalence.rename(columns = {'Upper CI (%) [16-29 Years Prevalence]':'Upper CI % 16-29 Years Prevalence'}, inplace=True)"
   ]
  },
  {
   "cell_type": "code",
   "execution_count": 16,
   "id": "08cfc88b",
   "metadata": {},
   "outputs": [],
   "source": [
    "Blood_Donor_Seroprevalence.rename(columns = {'n [30-49 Years Prevalence]':'n 30-49 Years Prevalence'}, inplace=True)"
   ]
  },
  {
   "cell_type": "code",
   "execution_count": 17,
   "id": "4bd7cd99",
   "metadata": {},
   "outputs": [],
   "source": [
    "Blood_Donor_Seroprevalence.rename(columns = {'Rate (%) [30-49 Years Prevalence]':'Rate % 30-49 Years Prevalence'}, inplace=True)"
   ]
  },
  {
   "cell_type": "code",
   "execution_count": 18,
   "id": "3c091689",
   "metadata": {},
   "outputs": [
    {
     "data": {
      "text/html": [
       "<div>\n",
       "<style scoped>\n",
       "    .dataframe tbody tr th:only-of-type {\n",
       "        vertical-align: middle;\n",
       "    }\n",
       "\n",
       "    .dataframe tbody tr th {\n",
       "        vertical-align: top;\n",
       "    }\n",
       "\n",
       "    .dataframe thead th {\n",
       "        text-align: right;\n",
       "    }\n",
       "</style>\n",
       "<table border=\"1\" class=\"dataframe\">\n",
       "  <thead>\n",
       "    <tr style=\"text-align: right;\">\n",
       "      <th></th>\n",
       "      <th>Region</th>\n",
       "      <th>Region Abbreviation</th>\n",
       "      <th>Year and Month</th>\n",
       "      <th>Median \\nDonation Date</th>\n",
       "      <th>n Total Prevalence</th>\n",
       "      <th>Rate % Total Prevalence</th>\n",
       "      <th>Lower CI % Total Prevalence</th>\n",
       "      <th>Upper CI  % Total Prevalence</th>\n",
       "      <th>n 16-29 Years Prevalence</th>\n",
       "      <th>Rate % 16-29 Years Prevalence</th>\n",
       "      <th>...</th>\n",
       "      <th>Lower CI (%) [Asian Prevalence]</th>\n",
       "      <th>Upper CI (%) [Asian Prevalence]</th>\n",
       "      <th>n [Hispanic Prevalence]</th>\n",
       "      <th>Rate (%) [Hispanic Prevalence]</th>\n",
       "      <th>Lower CI (%) [Hispanic Prevalence]</th>\n",
       "      <th>Upper CI (%) [Hispanic Prevalence]</th>\n",
       "      <th>n [Other Race Prevalence]</th>\n",
       "      <th>Rate (%) [Other Race Prevalence]</th>\n",
       "      <th>Lower CI (%) [Other Race Prevalence]</th>\n",
       "      <th>Upper CI (%) [Other Race Prevalence]</th>\n",
       "    </tr>\n",
       "  </thead>\n",
       "  <tbody>\n",
       "    <tr>\n",
       "      <th>0</th>\n",
       "      <td>Alabama Region</td>\n",
       "      <td>AL</td>\n",
       "      <td>2020-07</td>\n",
       "      <td>7/13/2020</td>\n",
       "      <td>1422</td>\n",
       "      <td>2.0</td>\n",
       "      <td>1.1</td>\n",
       "      <td>3.6</td>\n",
       "      <td>179</td>\n",
       "      <td>5.2</td>\n",
       "      <td>...</td>\n",
       "      <td>0.0</td>\n",
       "      <td>25.9</td>\n",
       "      <td>21.0</td>\n",
       "      <td>3.9</td>\n",
       "      <td>0.6</td>\n",
       "      <td>21.5</td>\n",
       "      <td>12.0</td>\n",
       "      <td>4.0</td>\n",
       "      <td>0.4</td>\n",
       "      <td>29.9</td>\n",
       "    </tr>\n",
       "    <tr>\n",
       "      <th>1</th>\n",
       "      <td>Central Kentucky Region</td>\n",
       "      <td>KY</td>\n",
       "      <td>2020-07</td>\n",
       "      <td>7/13/2020</td>\n",
       "      <td>1070</td>\n",
       "      <td>1.4</td>\n",
       "      <td>0.8</td>\n",
       "      <td>2.5</td>\n",
       "      <td>136</td>\n",
       "      <td>1.7</td>\n",
       "      <td>...</td>\n",
       "      <td>0.0</td>\n",
       "      <td>29.9</td>\n",
       "      <td>17.0</td>\n",
       "      <td>0.0</td>\n",
       "      <td>0.0</td>\n",
       "      <td>18.4</td>\n",
       "      <td>12.0</td>\n",
       "      <td>0.0</td>\n",
       "      <td>0.0</td>\n",
       "      <td>24.2</td>\n",
       "    </tr>\n",
       "    <tr>\n",
       "      <th>2</th>\n",
       "      <td>Central Maryland and National Capital Region</td>\n",
       "      <td>MD</td>\n",
       "      <td>2020-07</td>\n",
       "      <td>7/14/2020</td>\n",
       "      <td>3599</td>\n",
       "      <td>2.4</td>\n",
       "      <td>1.5</td>\n",
       "      <td>3.7</td>\n",
       "      <td>480</td>\n",
       "      <td>4.2</td>\n",
       "      <td>...</td>\n",
       "      <td>0.8</td>\n",
       "      <td>7.3</td>\n",
       "      <td>103.0</td>\n",
       "      <td>6.7</td>\n",
       "      <td>2.4</td>\n",
       "      <td>17.5</td>\n",
       "      <td>89.0</td>\n",
       "      <td>6.1</td>\n",
       "      <td>2.3</td>\n",
       "      <td>15.2</td>\n",
       "    </tr>\n",
       "    <tr>\n",
       "      <th>3</th>\n",
       "      <td>Central Missouri and St. Louis Region</td>\n",
       "      <td>MO</td>\n",
       "      <td>2020-07</td>\n",
       "      <td>7/13/2020</td>\n",
       "      <td>1230</td>\n",
       "      <td>0.7</td>\n",
       "      <td>0.2</td>\n",
       "      <td>1.8</td>\n",
       "      <td>136</td>\n",
       "      <td>1.6</td>\n",
       "      <td>...</td>\n",
       "      <td>0.0</td>\n",
       "      <td>29.9</td>\n",
       "      <td>10.0</td>\n",
       "      <td>0.0</td>\n",
       "      <td>0.0</td>\n",
       "      <td>27.8</td>\n",
       "      <td>14.0</td>\n",
       "      <td>0.0</td>\n",
       "      <td>0.0</td>\n",
       "      <td>21.5</td>\n",
       "    </tr>\n",
       "    <tr>\n",
       "      <th>4</th>\n",
       "      <td>Central Tennessee Region</td>\n",
       "      <td>TN-1</td>\n",
       "      <td>2020-07</td>\n",
       "      <td>7/14/2020</td>\n",
       "      <td>1439</td>\n",
       "      <td>2.6</td>\n",
       "      <td>1.7</td>\n",
       "      <td>4.0</td>\n",
       "      <td>216</td>\n",
       "      <td>4.1</td>\n",
       "      <td>...</td>\n",
       "      <td>0.8</td>\n",
       "      <td>24.0</td>\n",
       "      <td>27.0</td>\n",
       "      <td>0.0</td>\n",
       "      <td>0.0</td>\n",
       "      <td>12.5</td>\n",
       "      <td>22.0</td>\n",
       "      <td>7.7</td>\n",
       "      <td>1.9</td>\n",
       "      <td>26.2</td>\n",
       "    </tr>\n",
       "  </tbody>\n",
       "</table>\n",
       "<p>5 rows × 52 columns</p>\n",
       "</div>"
      ],
      "text/plain": [
       "                                         Region Region Abbreviation  \\\n",
       "0                                Alabama Region                  AL   \n",
       "1                       Central Kentucky Region                  KY   \n",
       "2  Central Maryland and National Capital Region                  MD   \n",
       "3         Central Missouri and St. Louis Region                  MO   \n",
       "4                      Central Tennessee Region                TN-1   \n",
       "\n",
       "  Year and Month Median \\nDonation Date  n Total Prevalence  \\\n",
       "0        2020-07              7/13/2020                1422   \n",
       "1        2020-07              7/13/2020                1070   \n",
       "2        2020-07              7/14/2020                3599   \n",
       "3        2020-07              7/13/2020                1230   \n",
       "4        2020-07              7/14/2020                1439   \n",
       "\n",
       "   Rate % Total Prevalence  Lower CI % Total Prevalence  \\\n",
       "0                      2.0                          1.1   \n",
       "1                      1.4                          0.8   \n",
       "2                      2.4                          1.5   \n",
       "3                      0.7                          0.2   \n",
       "4                      2.6                          1.7   \n",
       "\n",
       "   Upper CI  % Total Prevalence  n 16-29 Years Prevalence  \\\n",
       "0                           3.6                       179   \n",
       "1                           2.5                       136   \n",
       "2                           3.7                       480   \n",
       "3                           1.8                       136   \n",
       "4                           4.0                       216   \n",
       "\n",
       "   Rate % 16-29 Years Prevalence  ...  Lower CI (%) [Asian Prevalence]  \\\n",
       "0                            5.2  ...                              0.0   \n",
       "1                            1.7  ...                              0.0   \n",
       "2                            4.2  ...                              0.8   \n",
       "3                            1.6  ...                              0.0   \n",
       "4                            4.1  ...                              0.8   \n",
       "\n",
       "   Upper CI (%) [Asian Prevalence]  n [Hispanic Prevalence]  \\\n",
       "0                             25.9                     21.0   \n",
       "1                             29.9                     17.0   \n",
       "2                              7.3                    103.0   \n",
       "3                             29.9                     10.0   \n",
       "4                             24.0                     27.0   \n",
       "\n",
       "   Rate (%) [Hispanic Prevalence]  Lower CI (%) [Hispanic Prevalence]  \\\n",
       "0                             3.9                                 0.6   \n",
       "1                             0.0                                 0.0   \n",
       "2                             6.7                                 2.4   \n",
       "3                             0.0                                 0.0   \n",
       "4                             0.0                                 0.0   \n",
       "\n",
       "   Upper CI (%) [Hispanic Prevalence]  n [Other Race Prevalence]  \\\n",
       "0                                21.5                       12.0   \n",
       "1                                18.4                       12.0   \n",
       "2                                17.5                       89.0   \n",
       "3                                27.8                       14.0   \n",
       "4                                12.5                       22.0   \n",
       "\n",
       "   Rate (%) [Other Race Prevalence]  Lower CI (%) [Other Race Prevalence]  \\\n",
       "0                               4.0                                   0.4   \n",
       "1                               0.0                                   0.0   \n",
       "2                               6.1                                   2.3   \n",
       "3                               0.0                                   0.0   \n",
       "4                               7.7                                   1.9   \n",
       "\n",
       "   Upper CI (%) [Other Race Prevalence]  \n",
       "0                                  29.9  \n",
       "1                                  24.2  \n",
       "2                                  15.2  \n",
       "3                                  21.5  \n",
       "4                                  26.2  \n",
       "\n",
       "[5 rows x 52 columns]"
      ]
     },
     "execution_count": 18,
     "metadata": {},
     "output_type": "execute_result"
    }
   ],
   "source": [
    "Blood_Donor_Seroprevalence.head()"
   ]
  },
  {
   "cell_type": "code",
   "execution_count": 19,
   "id": "c9a4011b",
   "metadata": {},
   "outputs": [],
   "source": [
    "Blood_Donor_Seroprevalence.rename(columns = {'Lower CI (%) [30-49 Years Prevalence]':'Lower CI % 30-49 Years Prevalence'}, inplace=True)"
   ]
  },
  {
   "cell_type": "code",
   "execution_count": 20,
   "id": "c4840b73",
   "metadata": {},
   "outputs": [],
   "source": [
    "Blood_Donor_Seroprevalence.rename(columns = {'Upper CI (%) [30-49 Years Prevalence]':'Upper CI % 30-49 Years Prevalence'}, inplace=True)"
   ]
  },
  {
   "cell_type": "code",
   "execution_count": 21,
   "id": "d491408c",
   "metadata": {},
   "outputs": [],
   "source": [
    "Blood_Donor_Seroprevalence.rename(columns = {'n [50-64 Years Prevalence]':'n 50-64 Years Prevalence', 'Rate (%) [50-64 Years Prevalence]':'Rate % 50-64 Years Prevalence'}, inplace=True)"
   ]
  },
  {
   "cell_type": "code",
   "execution_count": 22,
   "id": "683d9c9b",
   "metadata": {},
   "outputs": [],
   "source": [
    "Blood_Donor_Seroprevalence.rename(columns = {'Lower CI (%) [50-64 Years Prevalence]':'Lower CI % 50-64 Years Prevalence', 'Upper CI (%) [50-64 Years Prevalence]':'Upper CI % 50-64 Years Prevalence'}, inplace=True)"
   ]
  },
  {
   "cell_type": "code",
   "execution_count": 23,
   "id": "06a43cd6",
   "metadata": {},
   "outputs": [
    {
     "data": {
      "text/html": [
       "<div>\n",
       "<style scoped>\n",
       "    .dataframe tbody tr th:only-of-type {\n",
       "        vertical-align: middle;\n",
       "    }\n",
       "\n",
       "    .dataframe tbody tr th {\n",
       "        vertical-align: top;\n",
       "    }\n",
       "\n",
       "    .dataframe thead th {\n",
       "        text-align: right;\n",
       "    }\n",
       "</style>\n",
       "<table border=\"1\" class=\"dataframe\">\n",
       "  <thead>\n",
       "    <tr style=\"text-align: right;\">\n",
       "      <th></th>\n",
       "      <th>Region</th>\n",
       "      <th>Region Abbreviation</th>\n",
       "      <th>Year and Month</th>\n",
       "      <th>Median \\nDonation Date</th>\n",
       "      <th>n Total Prevalence</th>\n",
       "      <th>Rate % Total Prevalence</th>\n",
       "      <th>Lower CI % Total Prevalence</th>\n",
       "      <th>Upper CI  % Total Prevalence</th>\n",
       "      <th>n 16-29 Years Prevalence</th>\n",
       "      <th>Rate % 16-29 Years Prevalence</th>\n",
       "      <th>...</th>\n",
       "      <th>Lower CI (%) [Asian Prevalence]</th>\n",
       "      <th>Upper CI (%) [Asian Prevalence]</th>\n",
       "      <th>n [Hispanic Prevalence]</th>\n",
       "      <th>Rate (%) [Hispanic Prevalence]</th>\n",
       "      <th>Lower CI (%) [Hispanic Prevalence]</th>\n",
       "      <th>Upper CI (%) [Hispanic Prevalence]</th>\n",
       "      <th>n [Other Race Prevalence]</th>\n",
       "      <th>Rate (%) [Other Race Prevalence]</th>\n",
       "      <th>Lower CI (%) [Other Race Prevalence]</th>\n",
       "      <th>Upper CI (%) [Other Race Prevalence]</th>\n",
       "    </tr>\n",
       "  </thead>\n",
       "  <tbody>\n",
       "    <tr>\n",
       "      <th>0</th>\n",
       "      <td>Alabama Region</td>\n",
       "      <td>AL</td>\n",
       "      <td>2020-07</td>\n",
       "      <td>7/13/2020</td>\n",
       "      <td>1422</td>\n",
       "      <td>2.0</td>\n",
       "      <td>1.1</td>\n",
       "      <td>3.6</td>\n",
       "      <td>179</td>\n",
       "      <td>5.2</td>\n",
       "      <td>...</td>\n",
       "      <td>0.0</td>\n",
       "      <td>25.9</td>\n",
       "      <td>21.0</td>\n",
       "      <td>3.9</td>\n",
       "      <td>0.6</td>\n",
       "      <td>21.5</td>\n",
       "      <td>12.0</td>\n",
       "      <td>4.0</td>\n",
       "      <td>0.4</td>\n",
       "      <td>29.9</td>\n",
       "    </tr>\n",
       "    <tr>\n",
       "      <th>1</th>\n",
       "      <td>Central Kentucky Region</td>\n",
       "      <td>KY</td>\n",
       "      <td>2020-07</td>\n",
       "      <td>7/13/2020</td>\n",
       "      <td>1070</td>\n",
       "      <td>1.4</td>\n",
       "      <td>0.8</td>\n",
       "      <td>2.5</td>\n",
       "      <td>136</td>\n",
       "      <td>1.7</td>\n",
       "      <td>...</td>\n",
       "      <td>0.0</td>\n",
       "      <td>29.9</td>\n",
       "      <td>17.0</td>\n",
       "      <td>0.0</td>\n",
       "      <td>0.0</td>\n",
       "      <td>18.4</td>\n",
       "      <td>12.0</td>\n",
       "      <td>0.0</td>\n",
       "      <td>0.0</td>\n",
       "      <td>24.2</td>\n",
       "    </tr>\n",
       "    <tr>\n",
       "      <th>2</th>\n",
       "      <td>Central Maryland and National Capital Region</td>\n",
       "      <td>MD</td>\n",
       "      <td>2020-07</td>\n",
       "      <td>7/14/2020</td>\n",
       "      <td>3599</td>\n",
       "      <td>2.4</td>\n",
       "      <td>1.5</td>\n",
       "      <td>3.7</td>\n",
       "      <td>480</td>\n",
       "      <td>4.2</td>\n",
       "      <td>...</td>\n",
       "      <td>0.8</td>\n",
       "      <td>7.3</td>\n",
       "      <td>103.0</td>\n",
       "      <td>6.7</td>\n",
       "      <td>2.4</td>\n",
       "      <td>17.5</td>\n",
       "      <td>89.0</td>\n",
       "      <td>6.1</td>\n",
       "      <td>2.3</td>\n",
       "      <td>15.2</td>\n",
       "    </tr>\n",
       "    <tr>\n",
       "      <th>3</th>\n",
       "      <td>Central Missouri and St. Louis Region</td>\n",
       "      <td>MO</td>\n",
       "      <td>2020-07</td>\n",
       "      <td>7/13/2020</td>\n",
       "      <td>1230</td>\n",
       "      <td>0.7</td>\n",
       "      <td>0.2</td>\n",
       "      <td>1.8</td>\n",
       "      <td>136</td>\n",
       "      <td>1.6</td>\n",
       "      <td>...</td>\n",
       "      <td>0.0</td>\n",
       "      <td>29.9</td>\n",
       "      <td>10.0</td>\n",
       "      <td>0.0</td>\n",
       "      <td>0.0</td>\n",
       "      <td>27.8</td>\n",
       "      <td>14.0</td>\n",
       "      <td>0.0</td>\n",
       "      <td>0.0</td>\n",
       "      <td>21.5</td>\n",
       "    </tr>\n",
       "    <tr>\n",
       "      <th>4</th>\n",
       "      <td>Central Tennessee Region</td>\n",
       "      <td>TN-1</td>\n",
       "      <td>2020-07</td>\n",
       "      <td>7/14/2020</td>\n",
       "      <td>1439</td>\n",
       "      <td>2.6</td>\n",
       "      <td>1.7</td>\n",
       "      <td>4.0</td>\n",
       "      <td>216</td>\n",
       "      <td>4.1</td>\n",
       "      <td>...</td>\n",
       "      <td>0.8</td>\n",
       "      <td>24.0</td>\n",
       "      <td>27.0</td>\n",
       "      <td>0.0</td>\n",
       "      <td>0.0</td>\n",
       "      <td>12.5</td>\n",
       "      <td>22.0</td>\n",
       "      <td>7.7</td>\n",
       "      <td>1.9</td>\n",
       "      <td>26.2</td>\n",
       "    </tr>\n",
       "  </tbody>\n",
       "</table>\n",
       "<p>5 rows × 52 columns</p>\n",
       "</div>"
      ],
      "text/plain": [
       "                                         Region Region Abbreviation  \\\n",
       "0                                Alabama Region                  AL   \n",
       "1                       Central Kentucky Region                  KY   \n",
       "2  Central Maryland and National Capital Region                  MD   \n",
       "3         Central Missouri and St. Louis Region                  MO   \n",
       "4                      Central Tennessee Region                TN-1   \n",
       "\n",
       "  Year and Month Median \\nDonation Date  n Total Prevalence  \\\n",
       "0        2020-07              7/13/2020                1422   \n",
       "1        2020-07              7/13/2020                1070   \n",
       "2        2020-07              7/14/2020                3599   \n",
       "3        2020-07              7/13/2020                1230   \n",
       "4        2020-07              7/14/2020                1439   \n",
       "\n",
       "   Rate % Total Prevalence  Lower CI % Total Prevalence  \\\n",
       "0                      2.0                          1.1   \n",
       "1                      1.4                          0.8   \n",
       "2                      2.4                          1.5   \n",
       "3                      0.7                          0.2   \n",
       "4                      2.6                          1.7   \n",
       "\n",
       "   Upper CI  % Total Prevalence  n 16-29 Years Prevalence  \\\n",
       "0                           3.6                       179   \n",
       "1                           2.5                       136   \n",
       "2                           3.7                       480   \n",
       "3                           1.8                       136   \n",
       "4                           4.0                       216   \n",
       "\n",
       "   Rate % 16-29 Years Prevalence  ...  Lower CI (%) [Asian Prevalence]  \\\n",
       "0                            5.2  ...                              0.0   \n",
       "1                            1.7  ...                              0.0   \n",
       "2                            4.2  ...                              0.8   \n",
       "3                            1.6  ...                              0.0   \n",
       "4                            4.1  ...                              0.8   \n",
       "\n",
       "   Upper CI (%) [Asian Prevalence]  n [Hispanic Prevalence]  \\\n",
       "0                             25.9                     21.0   \n",
       "1                             29.9                     17.0   \n",
       "2                              7.3                    103.0   \n",
       "3                             29.9                     10.0   \n",
       "4                             24.0                     27.0   \n",
       "\n",
       "   Rate (%) [Hispanic Prevalence]  Lower CI (%) [Hispanic Prevalence]  \\\n",
       "0                             3.9                                 0.6   \n",
       "1                             0.0                                 0.0   \n",
       "2                             6.7                                 2.4   \n",
       "3                             0.0                                 0.0   \n",
       "4                             0.0                                 0.0   \n",
       "\n",
       "   Upper CI (%) [Hispanic Prevalence]  n [Other Race Prevalence]  \\\n",
       "0                                21.5                       12.0   \n",
       "1                                18.4                       12.0   \n",
       "2                                17.5                       89.0   \n",
       "3                                27.8                       14.0   \n",
       "4                                12.5                       22.0   \n",
       "\n",
       "   Rate (%) [Other Race Prevalence]  Lower CI (%) [Other Race Prevalence]  \\\n",
       "0                               4.0                                   0.4   \n",
       "1                               0.0                                   0.0   \n",
       "2                               6.1                                   2.3   \n",
       "3                               0.0                                   0.0   \n",
       "4                               7.7                                   1.9   \n",
       "\n",
       "   Upper CI (%) [Other Race Prevalence]  \n",
       "0                                  29.9  \n",
       "1                                  24.2  \n",
       "2                                  15.2  \n",
       "3                                  21.5  \n",
       "4                                  26.2  \n",
       "\n",
       "[5 rows x 52 columns]"
      ]
     },
     "execution_count": 23,
     "metadata": {},
     "output_type": "execute_result"
    }
   ],
   "source": [
    "Blood_Donor_Seroprevalence.head()"
   ]
  },
  {
   "cell_type": "code",
   "execution_count": 24,
   "id": "c0d707cc",
   "metadata": {},
   "outputs": [],
   "source": [
    "Blood_Donor_Seroprevalence.rename(columns = {'n [65+ Years Prevalence]':'n 65 Years Prevalence'}, inplace=True)"
   ]
  },
  {
   "cell_type": "code",
   "execution_count": 25,
   "id": "35a5e14f",
   "metadata": {},
   "outputs": [],
   "source": [
    "Blood_Donor_Seroprevalence.rename(columns = {'n [Male Prevalence]':'n Male Prevalence'}, inplace=True)"
   ]
  },
  {
   "cell_type": "code",
   "execution_count": 26,
   "id": "a3d7db7c",
   "metadata": {},
   "outputs": [],
   "source": [
    "Blood_Donor_Seroprevalence.rename(columns = {'n [Female Prevalence]':'n Female Prevalence'}, inplace=True)"
   ]
  },
  {
   "cell_type": "code",
   "execution_count": 27,
   "id": "1eb06f57",
   "metadata": {},
   "outputs": [],
   "source": [
    "Blood_Donor_Seroprevalence.rename(columns = {'n [White Prevalence]':'n White Prevalence'}, inplace=True)"
   ]
  },
  {
   "cell_type": "code",
   "execution_count": 28,
   "id": "6d9d572d",
   "metadata": {},
   "outputs": [],
   "source": [
    "Blood_Donor_Seroprevalence.rename(columns = {'n [Black Prevalence]':'n Black Prevalence'}, inplace=True)"
   ]
  },
  {
   "cell_type": "code",
   "execution_count": 29,
   "id": "a8ec932e",
   "metadata": {},
   "outputs": [],
   "source": [
    "Blood_Donor_Seroprevalence.rename(columns = {'n [Asian Prevalence]':'n Asian Prevalence'}, inplace=True)"
   ]
  },
  {
   "cell_type": "code",
   "execution_count": 30,
   "id": "bf636cdf",
   "metadata": {},
   "outputs": [],
   "source": [
    "Blood_Donor_Seroprevalence.rename(columns = {'n [Hispanic Prevalence]':'n Hispanic Prevalence'}, inplace=True)"
   ]
  },
  {
   "cell_type": "code",
   "execution_count": 31,
   "id": "82d19e94",
   "metadata": {},
   "outputs": [],
   "source": [
    "Blood_Donor_Seroprevalence.rename(columns = {'n [Total Prevalence]':'n Total Prevalence'}, inplace=True)"
   ]
  },
  {
   "cell_type": "code",
   "execution_count": 32,
   "id": "343dbe3c",
   "metadata": {},
   "outputs": [],
   "source": [
    "BloodDonorSeroprevalence = Blood_Donor_Seroprevalence[['n Total Prevalence','n Hispanic Prevalence','n Asian Prevalence', \n",
    "                           'n Black Prevalence','n White Prevalence','n Female Prevalence','n Male Prevalence',\n",
    "                            'n 50-64 Years Prevalence','n 30-49 Years Prevalence','n 16-29 Years Prevalence']]"
   ]
  },
  {
   "cell_type": "code",
   "execution_count": 33,
   "id": "9e465861",
   "metadata": {},
   "outputs": [
    {
     "data": {
      "text/html": [
       "<div>\n",
       "<style scoped>\n",
       "    .dataframe tbody tr th:only-of-type {\n",
       "        vertical-align: middle;\n",
       "    }\n",
       "\n",
       "    .dataframe tbody tr th {\n",
       "        vertical-align: top;\n",
       "    }\n",
       "\n",
       "    .dataframe thead th {\n",
       "        text-align: right;\n",
       "    }\n",
       "</style>\n",
       "<table border=\"1\" class=\"dataframe\">\n",
       "  <thead>\n",
       "    <tr style=\"text-align: right;\">\n",
       "      <th></th>\n",
       "      <th>n Total Prevalence</th>\n",
       "      <th>n Hispanic Prevalence</th>\n",
       "      <th>n Asian Prevalence</th>\n",
       "      <th>n Black Prevalence</th>\n",
       "      <th>n White Prevalence</th>\n",
       "      <th>n Female Prevalence</th>\n",
       "      <th>n Male Prevalence</th>\n",
       "      <th>n 50-64 Years Prevalence</th>\n",
       "      <th>n 30-49 Years Prevalence</th>\n",
       "      <th>n 16-29 Years Prevalence</th>\n",
       "    </tr>\n",
       "  </thead>\n",
       "  <tbody>\n",
       "    <tr>\n",
       "      <th>0</th>\n",
       "      <td>1422</td>\n",
       "      <td>21.0</td>\n",
       "      <td>11.0</td>\n",
       "      <td>104.0</td>\n",
       "      <td>1274.0</td>\n",
       "      <td>737</td>\n",
       "      <td>685</td>\n",
       "      <td>504</td>\n",
       "      <td>512</td>\n",
       "      <td>179</td>\n",
       "    </tr>\n",
       "    <tr>\n",
       "      <th>1</th>\n",
       "      <td>1070</td>\n",
       "      <td>17.0</td>\n",
       "      <td>9.0</td>\n",
       "      <td>19.0</td>\n",
       "      <td>1013.0</td>\n",
       "      <td>583</td>\n",
       "      <td>487</td>\n",
       "      <td>362</td>\n",
       "      <td>389</td>\n",
       "      <td>136</td>\n",
       "    </tr>\n",
       "    <tr>\n",
       "      <th>2</th>\n",
       "      <td>3599</td>\n",
       "      <td>103.0</td>\n",
       "      <td>147.0</td>\n",
       "      <td>210.0</td>\n",
       "      <td>3050.0</td>\n",
       "      <td>1987</td>\n",
       "      <td>1612</td>\n",
       "      <td>1266</td>\n",
       "      <td>1310</td>\n",
       "      <td>480</td>\n",
       "    </tr>\n",
       "    <tr>\n",
       "      <th>3</th>\n",
       "      <td>1230</td>\n",
       "      <td>10.0</td>\n",
       "      <td>9.0</td>\n",
       "      <td>20.0</td>\n",
       "      <td>1177.0</td>\n",
       "      <td>658</td>\n",
       "      <td>572</td>\n",
       "      <td>466</td>\n",
       "      <td>416</td>\n",
       "      <td>136</td>\n",
       "    </tr>\n",
       "    <tr>\n",
       "      <th>4</th>\n",
       "      <td>1439</td>\n",
       "      <td>27.0</td>\n",
       "      <td>19.0</td>\n",
       "      <td>40.0</td>\n",
       "      <td>1331.0</td>\n",
       "      <td>793</td>\n",
       "      <td>646</td>\n",
       "      <td>450</td>\n",
       "      <td>585</td>\n",
       "      <td>216</td>\n",
       "    </tr>\n",
       "    <tr>\n",
       "      <th>5</th>\n",
       "      <td>1931</td>\n",
       "      <td>32.0</td>\n",
       "      <td>17.0</td>\n",
       "      <td>131.0</td>\n",
       "      <td>1734.0</td>\n",
       "      <td>1104</td>\n",
       "      <td>827</td>\n",
       "      <td>740</td>\n",
       "      <td>628</td>\n",
       "      <td>162</td>\n",
       "    </tr>\n",
       "    <tr>\n",
       "      <th>6</th>\n",
       "      <td>2489</td>\n",
       "      <td>265.0</td>\n",
       "      <td>54.0</td>\n",
       "      <td>32.0</td>\n",
       "      <td>2102.0</td>\n",
       "      <td>1228</td>\n",
       "      <td>1261</td>\n",
       "      <td>913</td>\n",
       "      <td>876</td>\n",
       "      <td>235</td>\n",
       "    </tr>\n",
       "    <tr>\n",
       "      <th>7</th>\n",
       "      <td>793</td>\n",
       "      <td>6.0</td>\n",
       "      <td>2.0</td>\n",
       "      <td>1.0</td>\n",
       "      <td>778.0</td>\n",
       "      <td>438</td>\n",
       "      <td>355</td>\n",
       "      <td>301</td>\n",
       "      <td>265</td>\n",
       "      <td>96</td>\n",
       "    </tr>\n",
       "    <tr>\n",
       "      <th>8</th>\n",
       "      <td>2004</td>\n",
       "      <td>13.0</td>\n",
       "      <td>26.0</td>\n",
       "      <td>37.0</td>\n",
       "      <td>1902.0</td>\n",
       "      <td>1108</td>\n",
       "      <td>896</td>\n",
       "      <td>675</td>\n",
       "      <td>748</td>\n",
       "      <td>252</td>\n",
       "    </tr>\n",
       "    <tr>\n",
       "      <th>9</th>\n",
       "      <td>4151</td>\n",
       "      <td>72.0</td>\n",
       "      <td>56.0</td>\n",
       "      <td>154.0</td>\n",
       "      <td>3802.0</td>\n",
       "      <td>2254</td>\n",
       "      <td>1897</td>\n",
       "      <td>1566</td>\n",
       "      <td>1313</td>\n",
       "      <td>442</td>\n",
       "    </tr>\n",
       "    <tr>\n",
       "      <th>10</th>\n",
       "      <td>658</td>\n",
       "      <td>18.0</td>\n",
       "      <td>8.0</td>\n",
       "      <td>1.0</td>\n",
       "      <td>602.0</td>\n",
       "      <td>386</td>\n",
       "      <td>272</td>\n",
       "      <td>196</td>\n",
       "      <td>229</td>\n",
       "      <td>70</td>\n",
       "    </tr>\n",
       "    <tr>\n",
       "      <th>11</th>\n",
       "      <td>2769</td>\n",
       "      <td>15.0</td>\n",
       "      <td>18.0</td>\n",
       "      <td>18.0</td>\n",
       "      <td>2706.0</td>\n",
       "      <td>1497</td>\n",
       "      <td>1272</td>\n",
       "      <td>1062</td>\n",
       "      <td>823</td>\n",
       "      <td>285</td>\n",
       "    </tr>\n",
       "    <tr>\n",
       "      <th>12</th>\n",
       "      <td>3674</td>\n",
       "      <td>193.0</td>\n",
       "      <td>109.0</td>\n",
       "      <td>34.0</td>\n",
       "      <td>3284.0</td>\n",
       "      <td>1775</td>\n",
       "      <td>1899</td>\n",
       "      <td>1505</td>\n",
       "      <td>1010</td>\n",
       "      <td>401</td>\n",
       "    </tr>\n",
       "    <tr>\n",
       "      <th>13</th>\n",
       "      <td>1780</td>\n",
       "      <td>105.0</td>\n",
       "      <td>29.0</td>\n",
       "      <td>15.0</td>\n",
       "      <td>1627.0</td>\n",
       "      <td>901</td>\n",
       "      <td>879</td>\n",
       "      <td>642</td>\n",
       "      <td>591</td>\n",
       "      <td>178</td>\n",
       "    </tr>\n",
       "    <tr>\n",
       "      <th>14</th>\n",
       "      <td>1903</td>\n",
       "      <td>51.0</td>\n",
       "      <td>35.0</td>\n",
       "      <td>25.0</td>\n",
       "      <td>1764.0</td>\n",
       "      <td>1097</td>\n",
       "      <td>806</td>\n",
       "      <td>788</td>\n",
       "      <td>554</td>\n",
       "      <td>213</td>\n",
       "    </tr>\n",
       "    <tr>\n",
       "      <th>15</th>\n",
       "      <td>3857</td>\n",
       "      <td>53.0</td>\n",
       "      <td>102.0</td>\n",
       "      <td>106.0</td>\n",
       "      <td>3546.0</td>\n",
       "      <td>2125</td>\n",
       "      <td>1732</td>\n",
       "      <td>1508</td>\n",
       "      <td>1167</td>\n",
       "      <td>411</td>\n",
       "    </tr>\n",
       "    <tr>\n",
       "      <th>16</th>\n",
       "      <td>2097</td>\n",
       "      <td>18.0</td>\n",
       "      <td>7.0</td>\n",
       "      <td>150.0</td>\n",
       "      <td>1914.0</td>\n",
       "      <td>1005</td>\n",
       "      <td>1092</td>\n",
       "      <td>748</td>\n",
       "      <td>755</td>\n",
       "      <td>225</td>\n",
       "    </tr>\n",
       "    <tr>\n",
       "      <th>17</th>\n",
       "      <td>1484</td>\n",
       "      <td>31.0</td>\n",
       "      <td>37.0</td>\n",
       "      <td>91.0</td>\n",
       "      <td>1301.0</td>\n",
       "      <td>830</td>\n",
       "      <td>654</td>\n",
       "      <td>561</td>\n",
       "      <td>510</td>\n",
       "      <td>172</td>\n",
       "    </tr>\n",
       "    <tr>\n",
       "      <th>18</th>\n",
       "      <td>1434</td>\n",
       "      <td>35.0</td>\n",
       "      <td>19.0</td>\n",
       "      <td>3.0</td>\n",
       "      <td>1371.0</td>\n",
       "      <td>755</td>\n",
       "      <td>679</td>\n",
       "      <td>522</td>\n",
       "      <td>444</td>\n",
       "      <td>137</td>\n",
       "    </tr>\n",
       "    <tr>\n",
       "      <th>19</th>\n",
       "      <td>3704</td>\n",
       "      <td>103.0</td>\n",
       "      <td>127.0</td>\n",
       "      <td>247.0</td>\n",
       "      <td>3176.0</td>\n",
       "      <td>2020</td>\n",
       "      <td>1684</td>\n",
       "      <td>1361</td>\n",
       "      <td>1306</td>\n",
       "      <td>441</td>\n",
       "    </tr>\n",
       "  </tbody>\n",
       "</table>\n",
       "</div>"
      ],
      "text/plain": [
       "    n Total Prevalence  n Hispanic Prevalence  n Asian Prevalence  \\\n",
       "0                 1422                   21.0                11.0   \n",
       "1                 1070                   17.0                 9.0   \n",
       "2                 3599                  103.0               147.0   \n",
       "3                 1230                   10.0                 9.0   \n",
       "4                 1439                   27.0                19.0   \n",
       "5                 1931                   32.0                17.0   \n",
       "6                 2489                  265.0                54.0   \n",
       "7                  793                    6.0                 2.0   \n",
       "8                 2004                   13.0                26.0   \n",
       "9                 4151                   72.0                56.0   \n",
       "10                 658                   18.0                 8.0   \n",
       "11                2769                   15.0                18.0   \n",
       "12                3674                  193.0               109.0   \n",
       "13                1780                  105.0                29.0   \n",
       "14                1903                   51.0                35.0   \n",
       "15                3857                   53.0               102.0   \n",
       "16                2097                   18.0                 7.0   \n",
       "17                1484                   31.0                37.0   \n",
       "18                1434                   35.0                19.0   \n",
       "19                3704                  103.0               127.0   \n",
       "\n",
       "    n Black Prevalence  n White Prevalence  n Female Prevalence  \\\n",
       "0                104.0              1274.0                  737   \n",
       "1                 19.0              1013.0                  583   \n",
       "2                210.0              3050.0                 1987   \n",
       "3                 20.0              1177.0                  658   \n",
       "4                 40.0              1331.0                  793   \n",
       "5                131.0              1734.0                 1104   \n",
       "6                 32.0              2102.0                 1228   \n",
       "7                  1.0               778.0                  438   \n",
       "8                 37.0              1902.0                 1108   \n",
       "9                154.0              3802.0                 2254   \n",
       "10                 1.0               602.0                  386   \n",
       "11                18.0              2706.0                 1497   \n",
       "12                34.0              3284.0                 1775   \n",
       "13                15.0              1627.0                  901   \n",
       "14                25.0              1764.0                 1097   \n",
       "15               106.0              3546.0                 2125   \n",
       "16               150.0              1914.0                 1005   \n",
       "17                91.0              1301.0                  830   \n",
       "18                 3.0              1371.0                  755   \n",
       "19               247.0              3176.0                 2020   \n",
       "\n",
       "    n Male Prevalence  n 50-64 Years Prevalence  n 30-49 Years Prevalence  \\\n",
       "0                 685                       504                       512   \n",
       "1                 487                       362                       389   \n",
       "2                1612                      1266                      1310   \n",
       "3                 572                       466                       416   \n",
       "4                 646                       450                       585   \n",
       "5                 827                       740                       628   \n",
       "6                1261                       913                       876   \n",
       "7                 355                       301                       265   \n",
       "8                 896                       675                       748   \n",
       "9                1897                      1566                      1313   \n",
       "10                272                       196                       229   \n",
       "11               1272                      1062                       823   \n",
       "12               1899                      1505                      1010   \n",
       "13                879                       642                       591   \n",
       "14                806                       788                       554   \n",
       "15               1732                      1508                      1167   \n",
       "16               1092                       748                       755   \n",
       "17                654                       561                       510   \n",
       "18                679                       522                       444   \n",
       "19               1684                      1361                      1306   \n",
       "\n",
       "    n 16-29 Years Prevalence  \n",
       "0                        179  \n",
       "1                        136  \n",
       "2                        480  \n",
       "3                        136  \n",
       "4                        216  \n",
       "5                        162  \n",
       "6                        235  \n",
       "7                         96  \n",
       "8                        252  \n",
       "9                        442  \n",
       "10                        70  \n",
       "11                       285  \n",
       "12                       401  \n",
       "13                       178  \n",
       "14                       213  \n",
       "15                       411  \n",
       "16                       225  \n",
       "17                       172  \n",
       "18                       137  \n",
       "19                       441  "
      ]
     },
     "execution_count": 33,
     "metadata": {},
     "output_type": "execute_result"
    }
   ],
   "source": [
    "BloodDonorSeroprevalence.head(20)"
   ]
  },
  {
   "cell_type": "markdown",
   "id": "e3be4363",
   "metadata": {},
   "source": [
    "## Correlation Matrix"
   ]
  },
  {
   "cell_type": "code",
   "execution_count": 34,
   "id": "cbe88227",
   "metadata": {},
   "outputs": [],
   "source": [
    "BloodDonorSeroprevalenceA = BloodDonorSeroprevalence.corr()"
   ]
  },
  {
   "cell_type": "code",
   "execution_count": 35,
   "id": "de964ef9",
   "metadata": {},
   "outputs": [
    {
     "data": {
      "text/html": [
       "<div>\n",
       "<style scoped>\n",
       "    .dataframe tbody tr th:only-of-type {\n",
       "        vertical-align: middle;\n",
       "    }\n",
       "\n",
       "    .dataframe tbody tr th {\n",
       "        vertical-align: top;\n",
       "    }\n",
       "\n",
       "    .dataframe thead th {\n",
       "        text-align: right;\n",
       "    }\n",
       "</style>\n",
       "<table border=\"1\" class=\"dataframe\">\n",
       "  <thead>\n",
       "    <tr style=\"text-align: right;\">\n",
       "      <th></th>\n",
       "      <th>n Total Prevalence</th>\n",
       "      <th>n Hispanic Prevalence</th>\n",
       "      <th>n Asian Prevalence</th>\n",
       "      <th>n Black Prevalence</th>\n",
       "      <th>n White Prevalence</th>\n",
       "      <th>n Female Prevalence</th>\n",
       "      <th>n Male Prevalence</th>\n",
       "      <th>n 50-64 Years Prevalence</th>\n",
       "      <th>n 30-49 Years Prevalence</th>\n",
       "      <th>n 16-29 Years Prevalence</th>\n",
       "    </tr>\n",
       "  </thead>\n",
       "  <tbody>\n",
       "    <tr>\n",
       "      <th>n Total Prevalence</th>\n",
       "      <td>1.000000</td>\n",
       "      <td>0.950171</td>\n",
       "      <td>0.936858</td>\n",
       "      <td>0.924307</td>\n",
       "      <td>0.999207</td>\n",
       "      <td>0.999637</td>\n",
       "      <td>0.999631</td>\n",
       "      <td>0.999289</td>\n",
       "      <td>0.998197</td>\n",
       "      <td>0.989272</td>\n",
       "    </tr>\n",
       "    <tr>\n",
       "      <th>n Hispanic Prevalence</th>\n",
       "      <td>0.950171</td>\n",
       "      <td>1.000000</td>\n",
       "      <td>0.953291</td>\n",
       "      <td>0.878296</td>\n",
       "      <td>0.938254</td>\n",
       "      <td>0.946971</td>\n",
       "      <td>0.952707</td>\n",
       "      <td>0.942896</td>\n",
       "      <td>0.953029</td>\n",
       "      <td>0.952326</td>\n",
       "    </tr>\n",
       "    <tr>\n",
       "      <th>n Asian Prevalence</th>\n",
       "      <td>0.936858</td>\n",
       "      <td>0.953291</td>\n",
       "      <td>1.000000</td>\n",
       "      <td>0.825620</td>\n",
       "      <td>0.926015</td>\n",
       "      <td>0.934686</td>\n",
       "      <td>0.938369</td>\n",
       "      <td>0.930158</td>\n",
       "      <td>0.935712</td>\n",
       "      <td>0.933446</td>\n",
       "    </tr>\n",
       "    <tr>\n",
       "      <th>n Black Prevalence</th>\n",
       "      <td>0.924307</td>\n",
       "      <td>0.878296</td>\n",
       "      <td>0.825620</td>\n",
       "      <td>1.000000</td>\n",
       "      <td>0.920629</td>\n",
       "      <td>0.918031</td>\n",
       "      <td>0.929964</td>\n",
       "      <td>0.923870</td>\n",
       "      <td>0.921918</td>\n",
       "      <td>0.930050</td>\n",
       "    </tr>\n",
       "    <tr>\n",
       "      <th>n White Prevalence</th>\n",
       "      <td>0.999207</td>\n",
       "      <td>0.938254</td>\n",
       "      <td>0.926015</td>\n",
       "      <td>0.920629</td>\n",
       "      <td>1.000000</td>\n",
       "      <td>0.999411</td>\n",
       "      <td>0.998279</td>\n",
       "      <td>0.999353</td>\n",
       "      <td>0.997079</td>\n",
       "      <td>0.986524</td>\n",
       "    </tr>\n",
       "    <tr>\n",
       "      <th>n Female Prevalence</th>\n",
       "      <td>0.999637</td>\n",
       "      <td>0.946971</td>\n",
       "      <td>0.934686</td>\n",
       "      <td>0.918031</td>\n",
       "      <td>0.999411</td>\n",
       "      <td>1.000000</td>\n",
       "      <td>0.998538</td>\n",
       "      <td>0.999060</td>\n",
       "      <td>0.998287</td>\n",
       "      <td>0.988380</td>\n",
       "    </tr>\n",
       "    <tr>\n",
       "      <th>n Male Prevalence</th>\n",
       "      <td>0.999631</td>\n",
       "      <td>0.952707</td>\n",
       "      <td>0.938369</td>\n",
       "      <td>0.929964</td>\n",
       "      <td>0.998279</td>\n",
       "      <td>0.998538</td>\n",
       "      <td>1.000000</td>\n",
       "      <td>0.998787</td>\n",
       "      <td>0.997374</td>\n",
       "      <td>0.989445</td>\n",
       "    </tr>\n",
       "    <tr>\n",
       "      <th>n 50-64 Years Prevalence</th>\n",
       "      <td>0.999289</td>\n",
       "      <td>0.942896</td>\n",
       "      <td>0.930158</td>\n",
       "      <td>0.923870</td>\n",
       "      <td>0.999353</td>\n",
       "      <td>0.999060</td>\n",
       "      <td>0.998787</td>\n",
       "      <td>1.000000</td>\n",
       "      <td>0.997547</td>\n",
       "      <td>0.984689</td>\n",
       "    </tr>\n",
       "    <tr>\n",
       "      <th>n 30-49 Years Prevalence</th>\n",
       "      <td>0.998197</td>\n",
       "      <td>0.953029</td>\n",
       "      <td>0.935712</td>\n",
       "      <td>0.921918</td>\n",
       "      <td>0.997079</td>\n",
       "      <td>0.998287</td>\n",
       "      <td>0.997374</td>\n",
       "      <td>0.997547</td>\n",
       "      <td>1.000000</td>\n",
       "      <td>0.985262</td>\n",
       "    </tr>\n",
       "    <tr>\n",
       "      <th>n 16-29 Years Prevalence</th>\n",
       "      <td>0.989272</td>\n",
       "      <td>0.952326</td>\n",
       "      <td>0.933446</td>\n",
       "      <td>0.930050</td>\n",
       "      <td>0.986524</td>\n",
       "      <td>0.988380</td>\n",
       "      <td>0.989445</td>\n",
       "      <td>0.984689</td>\n",
       "      <td>0.985262</td>\n",
       "      <td>1.000000</td>\n",
       "    </tr>\n",
       "  </tbody>\n",
       "</table>\n",
       "</div>"
      ],
      "text/plain": [
       "                          n Total Prevalence  n Hispanic Prevalence  \\\n",
       "n Total Prevalence                  1.000000               0.950171   \n",
       "n Hispanic Prevalence               0.950171               1.000000   \n",
       "n Asian Prevalence                  0.936858               0.953291   \n",
       "n Black Prevalence                  0.924307               0.878296   \n",
       "n White Prevalence                  0.999207               0.938254   \n",
       "n Female Prevalence                 0.999637               0.946971   \n",
       "n Male Prevalence                   0.999631               0.952707   \n",
       "n 50-64 Years Prevalence            0.999289               0.942896   \n",
       "n 30-49 Years Prevalence            0.998197               0.953029   \n",
       "n 16-29 Years Prevalence            0.989272               0.952326   \n",
       "\n",
       "                          n Asian Prevalence  n Black Prevalence  \\\n",
       "n Total Prevalence                  0.936858            0.924307   \n",
       "n Hispanic Prevalence               0.953291            0.878296   \n",
       "n Asian Prevalence                  1.000000            0.825620   \n",
       "n Black Prevalence                  0.825620            1.000000   \n",
       "n White Prevalence                  0.926015            0.920629   \n",
       "n Female Prevalence                 0.934686            0.918031   \n",
       "n Male Prevalence                   0.938369            0.929964   \n",
       "n 50-64 Years Prevalence            0.930158            0.923870   \n",
       "n 30-49 Years Prevalence            0.935712            0.921918   \n",
       "n 16-29 Years Prevalence            0.933446            0.930050   \n",
       "\n",
       "                          n White Prevalence  n Female Prevalence  \\\n",
       "n Total Prevalence                  0.999207             0.999637   \n",
       "n Hispanic Prevalence               0.938254             0.946971   \n",
       "n Asian Prevalence                  0.926015             0.934686   \n",
       "n Black Prevalence                  0.920629             0.918031   \n",
       "n White Prevalence                  1.000000             0.999411   \n",
       "n Female Prevalence                 0.999411             1.000000   \n",
       "n Male Prevalence                   0.998279             0.998538   \n",
       "n 50-64 Years Prevalence            0.999353             0.999060   \n",
       "n 30-49 Years Prevalence            0.997079             0.998287   \n",
       "n 16-29 Years Prevalence            0.986524             0.988380   \n",
       "\n",
       "                          n Male Prevalence  n 50-64 Years Prevalence  \\\n",
       "n Total Prevalence                 0.999631                  0.999289   \n",
       "n Hispanic Prevalence              0.952707                  0.942896   \n",
       "n Asian Prevalence                 0.938369                  0.930158   \n",
       "n Black Prevalence                 0.929964                  0.923870   \n",
       "n White Prevalence                 0.998279                  0.999353   \n",
       "n Female Prevalence                0.998538                  0.999060   \n",
       "n Male Prevalence                  1.000000                  0.998787   \n",
       "n 50-64 Years Prevalence           0.998787                  1.000000   \n",
       "n 30-49 Years Prevalence           0.997374                  0.997547   \n",
       "n 16-29 Years Prevalence           0.989445                  0.984689   \n",
       "\n",
       "                          n 30-49 Years Prevalence  n 16-29 Years Prevalence  \n",
       "n Total Prevalence                        0.998197                  0.989272  \n",
       "n Hispanic Prevalence                     0.953029                  0.952326  \n",
       "n Asian Prevalence                        0.935712                  0.933446  \n",
       "n Black Prevalence                        0.921918                  0.930050  \n",
       "n White Prevalence                        0.997079                  0.986524  \n",
       "n Female Prevalence                       0.998287                  0.988380  \n",
       "n Male Prevalence                         0.997374                  0.989445  \n",
       "n 50-64 Years Prevalence                  0.997547                  0.984689  \n",
       "n 30-49 Years Prevalence                  1.000000                  0.985262  \n",
       "n 16-29 Years Prevalence                  0.985262                  1.000000  "
      ]
     },
     "execution_count": 35,
     "metadata": {},
     "output_type": "execute_result"
    }
   ],
   "source": [
    "BloodDonorSeroprevalenceA"
   ]
  },
  {
   "cell_type": "code",
   "execution_count": 36,
   "id": "86f775aa",
   "metadata": {},
   "outputs": [
    {
     "name": "stdout",
     "output_type": "stream",
     "text": [
      "                          n Total Prevalence  n Hispanic Prevalence  \\\n",
      "n Total Prevalence                  1.000000               0.950171   \n",
      "n Hispanic Prevalence               0.950171               1.000000   \n",
      "n Asian Prevalence                  0.936858               0.953291   \n",
      "n Black Prevalence                  0.924307               0.878296   \n",
      "n White Prevalence                  0.999207               0.938254   \n",
      "n Female Prevalence                 0.999637               0.946971   \n",
      "n Male Prevalence                   0.999631               0.952707   \n",
      "n 50-64 Years Prevalence            0.999289               0.942896   \n",
      "n 30-49 Years Prevalence            0.998197               0.953029   \n",
      "n 16-29 Years Prevalence            0.989272               0.952326   \n",
      "\n",
      "                          n Asian Prevalence  n Black Prevalence  \\\n",
      "n Total Prevalence                  0.936858            0.924307   \n",
      "n Hispanic Prevalence               0.953291            0.878296   \n",
      "n Asian Prevalence                  1.000000            0.825620   \n",
      "n Black Prevalence                  0.825620            1.000000   \n",
      "n White Prevalence                  0.926015            0.920629   \n",
      "n Female Prevalence                 0.934686            0.918031   \n",
      "n Male Prevalence                   0.938369            0.929964   \n",
      "n 50-64 Years Prevalence            0.930158            0.923870   \n",
      "n 30-49 Years Prevalence            0.935712            0.921918   \n",
      "n 16-29 Years Prevalence            0.933446            0.930050   \n",
      "\n",
      "                          n White Prevalence  n Female Prevalence  \\\n",
      "n Total Prevalence                  0.999207             0.999637   \n",
      "n Hispanic Prevalence               0.938254             0.946971   \n",
      "n Asian Prevalence                  0.926015             0.934686   \n",
      "n Black Prevalence                  0.920629             0.918031   \n",
      "n White Prevalence                  1.000000             0.999411   \n",
      "n Female Prevalence                 0.999411             1.000000   \n",
      "n Male Prevalence                   0.998279             0.998538   \n",
      "n 50-64 Years Prevalence            0.999353             0.999060   \n",
      "n 30-49 Years Prevalence            0.997079             0.998287   \n",
      "n 16-29 Years Prevalence            0.986524             0.988380   \n",
      "\n",
      "                          n Male Prevalence  n 50-64 Years Prevalence  \\\n",
      "n Total Prevalence                 0.999631                  0.999289   \n",
      "n Hispanic Prevalence              0.952707                  0.942896   \n",
      "n Asian Prevalence                 0.938369                  0.930158   \n",
      "n Black Prevalence                 0.929964                  0.923870   \n",
      "n White Prevalence                 0.998279                  0.999353   \n",
      "n Female Prevalence                0.998538                  0.999060   \n",
      "n Male Prevalence                  1.000000                  0.998787   \n",
      "n 50-64 Years Prevalence           0.998787                  1.000000   \n",
      "n 30-49 Years Prevalence           0.997374                  0.997547   \n",
      "n 16-29 Years Prevalence           0.989445                  0.984689   \n",
      "\n",
      "                          n 30-49 Years Prevalence  n 16-29 Years Prevalence  \n",
      "n Total Prevalence                        0.998197                  0.989272  \n",
      "n Hispanic Prevalence                     0.953029                  0.952326  \n",
      "n Asian Prevalence                        0.935712                  0.933446  \n",
      "n Black Prevalence                        0.921918                  0.930050  \n",
      "n White Prevalence                        0.997079                  0.986524  \n",
      "n Female Prevalence                       0.998287                  0.988380  \n",
      "n Male Prevalence                         0.997374                  0.989445  \n",
      "n 50-64 Years Prevalence                  0.997547                  0.984689  \n",
      "n 30-49 Years Prevalence                  1.000000                  0.985262  \n",
      "n 16-29 Years Prevalence                  0.985262                  1.000000  \n"
     ]
    }
   ],
   "source": [
    "print(BloodDonorSeroprevalenceA)"
   ]
  },
  {
   "cell_type": "code",
   "execution_count": 37,
   "id": "8300a10a",
   "metadata": {},
   "outputs": [
    {
     "data": {
      "text/html": [
       "<div>\n",
       "<style scoped>\n",
       "    .dataframe tbody tr th:only-of-type {\n",
       "        vertical-align: middle;\n",
       "    }\n",
       "\n",
       "    .dataframe tbody tr th {\n",
       "        vertical-align: top;\n",
       "    }\n",
       "\n",
       "    .dataframe thead th {\n",
       "        text-align: right;\n",
       "    }\n",
       "</style>\n",
       "<table border=\"1\" class=\"dataframe\">\n",
       "  <thead>\n",
       "    <tr style=\"text-align: right;\">\n",
       "      <th></th>\n",
       "      <th>n Total Prevalence</th>\n",
       "      <th>n Hispanic Prevalence</th>\n",
       "      <th>n Asian Prevalence</th>\n",
       "      <th>n Black Prevalence</th>\n",
       "      <th>n White Prevalence</th>\n",
       "      <th>n Female Prevalence</th>\n",
       "      <th>n Male Prevalence</th>\n",
       "      <th>n 50-64 Years Prevalence</th>\n",
       "      <th>n 30-49 Years Prevalence</th>\n",
       "      <th>n 16-29 Years Prevalence</th>\n",
       "    </tr>\n",
       "  </thead>\n",
       "  <tbody>\n",
       "    <tr>\n",
       "      <th>count</th>\n",
       "      <td>10.000000</td>\n",
       "      <td>10.000000</td>\n",
       "      <td>10.000000</td>\n",
       "      <td>10.000000</td>\n",
       "      <td>10.000000</td>\n",
       "      <td>10.000000</td>\n",
       "      <td>10.000000</td>\n",
       "      <td>10.000000</td>\n",
       "      <td>10.000000</td>\n",
       "      <td>10.000000</td>\n",
       "    </tr>\n",
       "    <tr>\n",
       "      <th>mean</th>\n",
       "      <td>0.979657</td>\n",
       "      <td>0.946794</td>\n",
       "      <td>0.931416</td>\n",
       "      <td>0.917268</td>\n",
       "      <td>0.976475</td>\n",
       "      <td>0.978300</td>\n",
       "      <td>0.980309</td>\n",
       "      <td>0.977565</td>\n",
       "      <td>0.978440</td>\n",
       "      <td>0.973939</td>\n",
       "    </tr>\n",
       "    <tr>\n",
       "      <th>std</th>\n",
       "      <td>0.030149</td>\n",
       "      <td>0.029381</td>\n",
       "      <td>0.042840</td>\n",
       "      <td>0.043734</td>\n",
       "      <td>0.033741</td>\n",
       "      <td>0.032023</td>\n",
       "      <td>0.028260</td>\n",
       "      <td>0.031876</td>\n",
       "      <td>0.029875</td>\n",
       "      <td>0.025382</td>\n",
       "    </tr>\n",
       "    <tr>\n",
       "      <th>min</th>\n",
       "      <td>0.924307</td>\n",
       "      <td>0.878296</td>\n",
       "      <td>0.825620</td>\n",
       "      <td>0.825620</td>\n",
       "      <td>0.920629</td>\n",
       "      <td>0.918031</td>\n",
       "      <td>0.929964</td>\n",
       "      <td>0.923870</td>\n",
       "      <td>0.921918</td>\n",
       "      <td>0.930050</td>\n",
       "    </tr>\n",
       "    <tr>\n",
       "      <th>25%</th>\n",
       "      <td>0.959946</td>\n",
       "      <td>0.943915</td>\n",
       "      <td>0.930980</td>\n",
       "      <td>0.918680</td>\n",
       "      <td>0.950321</td>\n",
       "      <td>0.957323</td>\n",
       "      <td>0.961892</td>\n",
       "      <td>0.953344</td>\n",
       "      <td>0.961087</td>\n",
       "      <td>0.960416</td>\n",
       "    </tr>\n",
       "    <tr>\n",
       "      <th>50%</th>\n",
       "      <td>0.998702</td>\n",
       "      <td>0.951248</td>\n",
       "      <td>0.935199</td>\n",
       "      <td>0.922894</td>\n",
       "      <td>0.997679</td>\n",
       "      <td>0.998412</td>\n",
       "      <td>0.997826</td>\n",
       "      <td>0.998167</td>\n",
       "      <td>0.997227</td>\n",
       "      <td>0.985893</td>\n",
       "    </tr>\n",
       "    <tr>\n",
       "      <th>75%</th>\n",
       "      <td>0.999546</td>\n",
       "      <td>0.952948</td>\n",
       "      <td>0.937992</td>\n",
       "      <td>0.928550</td>\n",
       "      <td>0.999317</td>\n",
       "      <td>0.999323</td>\n",
       "      <td>0.998724</td>\n",
       "      <td>0.999232</td>\n",
       "      <td>0.998035</td>\n",
       "      <td>0.989049</td>\n",
       "    </tr>\n",
       "    <tr>\n",
       "      <th>max</th>\n",
       "      <td>1.000000</td>\n",
       "      <td>1.000000</td>\n",
       "      <td>1.000000</td>\n",
       "      <td>1.000000</td>\n",
       "      <td>1.000000</td>\n",
       "      <td>1.000000</td>\n",
       "      <td>1.000000</td>\n",
       "      <td>1.000000</td>\n",
       "      <td>1.000000</td>\n",
       "      <td>1.000000</td>\n",
       "    </tr>\n",
       "  </tbody>\n",
       "</table>\n",
       "</div>"
      ],
      "text/plain": [
       "       n Total Prevalence  n Hispanic Prevalence  n Asian Prevalence  \\\n",
       "count           10.000000              10.000000           10.000000   \n",
       "mean             0.979657               0.946794            0.931416   \n",
       "std              0.030149               0.029381            0.042840   \n",
       "min              0.924307               0.878296            0.825620   \n",
       "25%              0.959946               0.943915            0.930980   \n",
       "50%              0.998702               0.951248            0.935199   \n",
       "75%              0.999546               0.952948            0.937992   \n",
       "max              1.000000               1.000000            1.000000   \n",
       "\n",
       "       n Black Prevalence  n White Prevalence  n Female Prevalence  \\\n",
       "count           10.000000           10.000000            10.000000   \n",
       "mean             0.917268            0.976475             0.978300   \n",
       "std              0.043734            0.033741             0.032023   \n",
       "min              0.825620            0.920629             0.918031   \n",
       "25%              0.918680            0.950321             0.957323   \n",
       "50%              0.922894            0.997679             0.998412   \n",
       "75%              0.928550            0.999317             0.999323   \n",
       "max              1.000000            1.000000             1.000000   \n",
       "\n",
       "       n Male Prevalence  n 50-64 Years Prevalence  n 30-49 Years Prevalence  \\\n",
       "count          10.000000                 10.000000                 10.000000   \n",
       "mean            0.980309                  0.977565                  0.978440   \n",
       "std             0.028260                  0.031876                  0.029875   \n",
       "min             0.929964                  0.923870                  0.921918   \n",
       "25%             0.961892                  0.953344                  0.961087   \n",
       "50%             0.997826                  0.998167                  0.997227   \n",
       "75%             0.998724                  0.999232                  0.998035   \n",
       "max             1.000000                  1.000000                  1.000000   \n",
       "\n",
       "       n 16-29 Years Prevalence  \n",
       "count                 10.000000  \n",
       "mean                   0.973939  \n",
       "std                    0.025382  \n",
       "min                    0.930050  \n",
       "25%                    0.960416  \n",
       "50%                    0.985893  \n",
       "75%                    0.989049  \n",
       "max                    1.000000  "
      ]
     },
     "execution_count": 37,
     "metadata": {},
     "output_type": "execute_result"
    }
   ],
   "source": [
    "BloodDonorSeroprevalenceA.describe()"
   ]
  },
  {
   "cell_type": "code",
   "execution_count": 38,
   "id": "94558ab5",
   "metadata": {},
   "outputs": [
    {
     "data": {
      "text/html": [
       "<div>\n",
       "<style scoped>\n",
       "    .dataframe tbody tr th:only-of-type {\n",
       "        vertical-align: middle;\n",
       "    }\n",
       "\n",
       "    .dataframe tbody tr th {\n",
       "        vertical-align: top;\n",
       "    }\n",
       "\n",
       "    .dataframe thead th {\n",
       "        text-align: right;\n",
       "    }\n",
       "</style>\n",
       "<table border=\"1\" class=\"dataframe\">\n",
       "  <thead>\n",
       "    <tr style=\"text-align: right;\">\n",
       "      <th></th>\n",
       "      <th>n Total Prevalence</th>\n",
       "      <th>n Hispanic Prevalence</th>\n",
       "      <th>n Asian Prevalence</th>\n",
       "      <th>n Black Prevalence</th>\n",
       "      <th>n White Prevalence</th>\n",
       "      <th>n Female Prevalence</th>\n",
       "      <th>n Male Prevalence</th>\n",
       "      <th>n 50-64 Years Prevalence</th>\n",
       "      <th>n 30-49 Years Prevalence</th>\n",
       "      <th>n 16-29 Years Prevalence</th>\n",
       "    </tr>\n",
       "  </thead>\n",
       "  <tbody>\n",
       "    <tr>\n",
       "      <th>count</th>\n",
       "      <td>1270.000000</td>\n",
       "      <td>1234.000000</td>\n",
       "      <td>1252.000000</td>\n",
       "      <td>1252.000000</td>\n",
       "      <td>1252.000000</td>\n",
       "      <td>1270.000000</td>\n",
       "      <td>1270.000000</td>\n",
       "      <td>1270.000000</td>\n",
       "      <td>1270.000000</td>\n",
       "      <td>1270.000000</td>\n",
       "    </tr>\n",
       "    <tr>\n",
       "      <th>mean</th>\n",
       "      <td>5671.902362</td>\n",
       "      <td>367.711507</td>\n",
       "      <td>176.722045</td>\n",
       "      <td>155.774760</td>\n",
       "      <td>4883.736422</td>\n",
       "      <td>2854.296850</td>\n",
       "      <td>2817.605512</td>\n",
       "      <td>2057.728346</td>\n",
       "      <td>1713.968504</td>\n",
       "      <td>689.770866</td>\n",
       "    </tr>\n",
       "    <tr>\n",
       "      <th>std</th>\n",
       "      <td>17109.337638</td>\n",
       "      <td>1166.854762</td>\n",
       "      <td>568.472196</td>\n",
       "      <td>517.920591</td>\n",
       "      <td>14557.155606</td>\n",
       "      <td>8592.472401</td>\n",
       "      <td>8523.122132</td>\n",
       "      <td>6202.130894</td>\n",
       "      <td>5189.214404</td>\n",
       "      <td>2111.867301</td>\n",
       "    </tr>\n",
       "    <tr>\n",
       "      <th>min</th>\n",
       "      <td>156.000000</td>\n",
       "      <td>2.000000</td>\n",
       "      <td>0.000000</td>\n",
       "      <td>0.000000</td>\n",
       "      <td>146.000000</td>\n",
       "      <td>97.000000</td>\n",
       "      <td>53.000000</td>\n",
       "      <td>53.000000</td>\n",
       "      <td>43.000000</td>\n",
       "      <td>18.000000</td>\n",
       "    </tr>\n",
       "    <tr>\n",
       "      <th>25%</th>\n",
       "      <td>1453.500000</td>\n",
       "      <td>22.000000</td>\n",
       "      <td>12.750000</td>\n",
       "      <td>9.000000</td>\n",
       "      <td>1243.750000</td>\n",
       "      <td>744.250000</td>\n",
       "      <td>714.250000</td>\n",
       "      <td>517.000000</td>\n",
       "      <td>434.250000</td>\n",
       "      <td>156.000000</td>\n",
       "    </tr>\n",
       "    <tr>\n",
       "      <th>50%</th>\n",
       "      <td>1923.500000</td>\n",
       "      <td>46.000000</td>\n",
       "      <td>25.000000</td>\n",
       "      <td>25.000000</td>\n",
       "      <td>1737.500000</td>\n",
       "      <td>983.500000</td>\n",
       "      <td>918.000000</td>\n",
       "      <td>675.000000</td>\n",
       "      <td>577.000000</td>\n",
       "      <td>217.000000</td>\n",
       "    </tr>\n",
       "    <tr>\n",
       "      <th>75%</th>\n",
       "      <td>2762.750000</td>\n",
       "      <td>157.000000</td>\n",
       "      <td>91.000000</td>\n",
       "      <td>95.250000</td>\n",
       "      <td>2398.750000</td>\n",
       "      <td>1399.000000</td>\n",
       "      <td>1401.750000</td>\n",
       "      <td>1001.000000</td>\n",
       "      <td>883.500000</td>\n",
       "      <td>355.750000</td>\n",
       "    </tr>\n",
       "    <tr>\n",
       "      <th>max</th>\n",
       "      <td>140630.000000</td>\n",
       "      <td>9473.000000</td>\n",
       "      <td>4967.000000</td>\n",
       "      <td>4387.000000</td>\n",
       "      <td>118484.000000</td>\n",
       "      <td>70274.000000</td>\n",
       "      <td>70739.000000</td>\n",
       "      <td>52161.000000</td>\n",
       "      <td>42890.000000</td>\n",
       "      <td>22687.000000</td>\n",
       "    </tr>\n",
       "  </tbody>\n",
       "</table>\n",
       "</div>"
      ],
      "text/plain": [
       "       n Total Prevalence  n Hispanic Prevalence  n Asian Prevalence  \\\n",
       "count         1270.000000            1234.000000         1252.000000   \n",
       "mean          5671.902362             367.711507          176.722045   \n",
       "std          17109.337638            1166.854762          568.472196   \n",
       "min            156.000000               2.000000            0.000000   \n",
       "25%           1453.500000              22.000000           12.750000   \n",
       "50%           1923.500000              46.000000           25.000000   \n",
       "75%           2762.750000             157.000000           91.000000   \n",
       "max         140630.000000            9473.000000         4967.000000   \n",
       "\n",
       "       n Black Prevalence  n White Prevalence  n Female Prevalence  \\\n",
       "count         1252.000000         1252.000000          1270.000000   \n",
       "mean           155.774760         4883.736422          2854.296850   \n",
       "std            517.920591        14557.155606          8592.472401   \n",
       "min              0.000000          146.000000            97.000000   \n",
       "25%              9.000000         1243.750000           744.250000   \n",
       "50%             25.000000         1737.500000           983.500000   \n",
       "75%             95.250000         2398.750000          1399.000000   \n",
       "max           4387.000000       118484.000000         70274.000000   \n",
       "\n",
       "       n Male Prevalence  n 50-64 Years Prevalence  n 30-49 Years Prevalence  \\\n",
       "count        1270.000000               1270.000000               1270.000000   \n",
       "mean         2817.605512               2057.728346               1713.968504   \n",
       "std          8523.122132               6202.130894               5189.214404   \n",
       "min            53.000000                 53.000000                 43.000000   \n",
       "25%           714.250000                517.000000                434.250000   \n",
       "50%           918.000000                675.000000                577.000000   \n",
       "75%          1401.750000               1001.000000                883.500000   \n",
       "max         70739.000000              52161.000000              42890.000000   \n",
       "\n",
       "       n 16-29 Years Prevalence  \n",
       "count               1270.000000  \n",
       "mean                 689.770866  \n",
       "std                 2111.867301  \n",
       "min                   18.000000  \n",
       "25%                  156.000000  \n",
       "50%                  217.000000  \n",
       "75%                  355.750000  \n",
       "max                22687.000000  "
      ]
     },
     "execution_count": 38,
     "metadata": {},
     "output_type": "execute_result"
    }
   ],
   "source": [
    "BloodDonorSeroprevalence.describe()"
   ]
  },
  {
   "cell_type": "code",
   "execution_count": 39,
   "id": "79b4f8b5",
   "metadata": {},
   "outputs": [
    {
     "name": "stdout",
     "output_type": "stream",
     "text": [
      "<class 'pandas.core.frame.DataFrame'>\n",
      "Index: 10 entries, n Total Prevalence to n 16-29 Years Prevalence\n",
      "Data columns (total 10 columns):\n",
      " #   Column                    Non-Null Count  Dtype  \n",
      "---  ------                    --------------  -----  \n",
      " 0   n Total Prevalence        10 non-null     float64\n",
      " 1   n Hispanic Prevalence     10 non-null     float64\n",
      " 2   n Asian Prevalence        10 non-null     float64\n",
      " 3   n Black Prevalence        10 non-null     float64\n",
      " 4   n White Prevalence        10 non-null     float64\n",
      " 5   n Female Prevalence       10 non-null     float64\n",
      " 6   n Male Prevalence         10 non-null     float64\n",
      " 7   n 50-64 Years Prevalence  10 non-null     float64\n",
      " 8   n 30-49 Years Prevalence  10 non-null     float64\n",
      " 9   n 16-29 Years Prevalence  10 non-null     float64\n",
      "dtypes: float64(10)\n",
      "memory usage: 1.2+ KB\n"
     ]
    }
   ],
   "source": [
    "BloodDonorSeroprevalenceA.info()"
   ]
  },
  {
   "cell_type": "code",
   "execution_count": 40,
   "id": "e62fad8a",
   "metadata": {},
   "outputs": [
    {
     "data": {
      "text/plain": [
       "<seaborn.axisgrid.FacetGrid at 0x1f23b52c220>"
      ]
     },
     "execution_count": 40,
     "metadata": {},
     "output_type": "execute_result"
    },
    {
     "data": {
      "image/png": "[encoded data removed]",
      "text/plain": [
       "<Figure size 360x360 with 1 Axes>"
      ]
     },
     "metadata": {
      "needs_background": "light"
     },
     "output_type": "display_data"
    }
   ],
   "source": [
    "sns.displot(BloodDonorSeroprevalence['n Total Prevalence'])"
   ]
  },
  {
   "cell_type": "code",
   "execution_count": 41,
   "id": "d22e108c",
   "metadata": {},
   "outputs": [
    {
     "data": {
      "text/plain": [
       "<seaborn.axisgrid.PairGrid at 0x1f23b5266d0>"
      ]
     },
     "execution_count": 41,
     "metadata": {},
     "output_type": "execute_result"
    },
    {
     "data": {
      "image/png": "[encoded data removed]",
      "text/plain": [
       "<Figure size 1800x1800 with 110 Axes>"
      ]
     },
     "metadata": {
      "needs_background": "light"
     },
     "output_type": "display_data"
    }
   ],
   "source": [
    "sns.pairplot(BloodDonorSeroprevalence)"
   ]
  },
  {
   "cell_type": "code",
   "execution_count": 42,
   "id": "6bbf01bf",
   "metadata": {},
   "outputs": [
    {
     "data": {
      "text/plain": [
       "<seaborn.axisgrid.PairGrid at 0x1f244684610>"
      ]
     },
     "execution_count": 42,
     "metadata": {},
     "output_type": "execute_result"
    },
    {
     "data": {
      "image/png": "[encoded data removed]",
      "text/plain": [
       "<Figure size 1800x1800 with 110 Axes>"
      ]
     },
     "metadata": {
      "needs_background": "light"
     },
     "output_type": "display_data"
    }
   ],
   "source": [
    "sns.pairplot(BloodDonorSeroprevalenceA)"
   ]
  },
  {
   "cell_type": "code",
   "execution_count": 43,
   "id": "e8ba08d8",
   "metadata": {},
   "outputs": [
    {
     "data": {
      "text/plain": [
       "<seaborn.axisgrid.FacetGrid at 0x1f2448e93a0>"
      ]
     },
     "execution_count": 43,
     "metadata": {},
     "output_type": "execute_result"
    },
    {
     "data": {
      "image/png": "[encoded data removed]",
      "text/plain": [
       "<Figure size 360x360 with 1 Axes>"
      ]
     },
     "metadata": {
      "needs_background": "light"
     },
     "output_type": "display_data"
    }
   ],
   "source": [
    "sns.displot(BloodDonorSeroprevalence['n Hispanic Prevalence'])"
   ]
  },
  {
   "cell_type": "code",
   "execution_count": 44,
   "id": "e5a902b7",
   "metadata": {},
   "outputs": [
    {
     "data": {
      "text/plain": [
       "<seaborn.axisgrid.FacetGrid at 0x1f24aa3abe0>"
      ]
     },
     "execution_count": 44,
     "metadata": {},
     "output_type": "execute_result"
    },
    {
     "data": {
      "image/png": "[encoded data removed]",
      "text/plain": [
       "<Figure size 360x360 with 1 Axes>"
      ]
     },
     "metadata": {
      "needs_background": "light"
     },
     "output_type": "display_data"
    }
   ],
   "source": [
    "sns.displot(BloodDonorSeroprevalence['n Asian Prevalence'])"
   ]
  },
  {
   "cell_type": "code",
   "execution_count": 45,
   "id": "3b78ce67",
   "metadata": {},
   "outputs": [
    {
     "data": {
      "text/plain": [
       "<seaborn.axisgrid.FacetGrid at 0x1f24bc8d5e0>"
      ]
     },
     "execution_count": 45,
     "metadata": {},
     "output_type": "execute_result"
    },
    {
     "data": {
      "image/png": "[encoded data removed]",
      "text/plain": [
       "<Figure size 360x360 with 1 Axes>"
      ]
     },
     "metadata": {
      "needs_background": "light"
     },
     "output_type": "display_data"
    }
   ],
   "source": [
    "sns.displot(BloodDonorSeroprevalence['n Black Prevalence'])"
   ]
  },
  {
   "cell_type": "code",
   "execution_count": 46,
   "id": "37381366",
   "metadata": {},
   "outputs": [
    {
     "data": {
      "text/plain": [
       "<seaborn.axisgrid.FacetGrid at 0x1f24bc8d4f0>"
      ]
     },
     "execution_count": 46,
     "metadata": {},
     "output_type": "execute_result"
    },
    {
     "data": {
      "image/png": "[encoded data removed]",
      "text/plain": [
       "<Figure size 360x360 with 1 Axes>"
      ]
     },
     "metadata": {
      "needs_background": "light"
     },
     "output_type": "display_data"
    }
   ],
   "source": [
    "sns.displot(BloodDonorSeroprevalence['n White Prevalence'])"
   ]
  },
  {
   "cell_type": "code",
   "execution_count": 47,
   "id": "5529d621",
   "metadata": {},
   "outputs": [
    {
     "data": {
      "text/plain": [
       "<seaborn.axisgrid.FacetGrid at 0x1f24b9e10d0>"
      ]
     },
     "execution_count": 47,
     "metadata": {},
     "output_type": "execute_result"
    },
    {
     "data": {
      "image/png": "[encoded data removed]",
      "text/plain": [
       "<Figure size 360x360 with 1 Axes>"
      ]
     },
     "metadata": {
      "needs_background": "light"
     },
     "output_type": "display_data"
    }
   ],
   "source": [
    "sns.displot(BloodDonorSeroprevalence['n Female Prevalence'])"
   ]
  },
  {
   "cell_type": "markdown",
   "id": "231d182a",
   "metadata": {},
   "source": [
    "## Export Data frame to a csv file"
   ]
  },
  {
   "cell_type": "code",
   "execution_count": 48,
   "id": "d606c999",
   "metadata": {},
   "outputs": [],
   "source": [
    "BloodDonorSeroprevalence.to_csv('/Users/12679/Documents/DataScience/DSO110/Lesson3/BloodDonorSeroprevalence.csv')"
   ]
  },
  {
   "cell_type": "code",
   "execution_count": 49,
   "id": "c41abdfe",
   "metadata": {},
   "outputs": [],
   "source": [
    "BloodDonorSeroprevalence = Blood_Donor_Seroprevalence[['n Total Prevalence','n Hispanic Prevalence','n Asian Prevalence', \n",
    "                           'n Black Prevalence','n White Prevalence','n Female Prevalence','n Male Prevalence',\n",
    "                            'n 50-64 Years Prevalence','n 30-49 Years Prevalence','n 16-29 Years Prevalence','Region','Year and Month']]"
   ]
  },
  {
   "cell_type": "code",
   "execution_count": 50,
   "id": "e0968768",
   "metadata": {},
   "outputs": [
    {
     "data": {
      "text/html": [
       "<div>\n",
       "<style scoped>\n",
       "    .dataframe tbody tr th:only-of-type {\n",
       "        vertical-align: middle;\n",
       "    }\n",
       "\n",
       "    .dataframe tbody tr th {\n",
       "        vertical-align: top;\n",
       "    }\n",
       "\n",
       "    .dataframe thead th {\n",
       "        text-align: right;\n",
       "    }\n",
       "</style>\n",
       "<table border=\"1\" class=\"dataframe\">\n",
       "  <thead>\n",
       "    <tr style=\"text-align: right;\">\n",
       "      <th></th>\n",
       "      <th>n Total Prevalence</th>\n",
       "      <th>n Hispanic Prevalence</th>\n",
       "      <th>n Asian Prevalence</th>\n",
       "      <th>n Black Prevalence</th>\n",
       "      <th>n White Prevalence</th>\n",
       "      <th>n Female Prevalence</th>\n",
       "      <th>n Male Prevalence</th>\n",
       "      <th>n 50-64 Years Prevalence</th>\n",
       "      <th>n 30-49 Years Prevalence</th>\n",
       "      <th>n 16-29 Years Prevalence</th>\n",
       "      <th>Region</th>\n",
       "      <th>Year and Month</th>\n",
       "    </tr>\n",
       "  </thead>\n",
       "  <tbody>\n",
       "    <tr>\n",
       "      <th>0</th>\n",
       "      <td>1422</td>\n",
       "      <td>21.0</td>\n",
       "      <td>11.0</td>\n",
       "      <td>104.0</td>\n",
       "      <td>1274.0</td>\n",
       "      <td>737</td>\n",
       "      <td>685</td>\n",
       "      <td>504</td>\n",
       "      <td>512</td>\n",
       "      <td>179</td>\n",
       "      <td>Alabama Region</td>\n",
       "      <td>2020-07</td>\n",
       "    </tr>\n",
       "    <tr>\n",
       "      <th>1</th>\n",
       "      <td>1070</td>\n",
       "      <td>17.0</td>\n",
       "      <td>9.0</td>\n",
       "      <td>19.0</td>\n",
       "      <td>1013.0</td>\n",
       "      <td>583</td>\n",
       "      <td>487</td>\n",
       "      <td>362</td>\n",
       "      <td>389</td>\n",
       "      <td>136</td>\n",
       "      <td>Central Kentucky Region</td>\n",
       "      <td>2020-07</td>\n",
       "    </tr>\n",
       "    <tr>\n",
       "      <th>2</th>\n",
       "      <td>3599</td>\n",
       "      <td>103.0</td>\n",
       "      <td>147.0</td>\n",
       "      <td>210.0</td>\n",
       "      <td>3050.0</td>\n",
       "      <td>1987</td>\n",
       "      <td>1612</td>\n",
       "      <td>1266</td>\n",
       "      <td>1310</td>\n",
       "      <td>480</td>\n",
       "      <td>Central Maryland and National Capital Region</td>\n",
       "      <td>2020-07</td>\n",
       "    </tr>\n",
       "    <tr>\n",
       "      <th>3</th>\n",
       "      <td>1230</td>\n",
       "      <td>10.0</td>\n",
       "      <td>9.0</td>\n",
       "      <td>20.0</td>\n",
       "      <td>1177.0</td>\n",
       "      <td>658</td>\n",
       "      <td>572</td>\n",
       "      <td>466</td>\n",
       "      <td>416</td>\n",
       "      <td>136</td>\n",
       "      <td>Central Missouri and St. Louis Region</td>\n",
       "      <td>2020-07</td>\n",
       "    </tr>\n",
       "    <tr>\n",
       "      <th>4</th>\n",
       "      <td>1439</td>\n",
       "      <td>27.0</td>\n",
       "      <td>19.0</td>\n",
       "      <td>40.0</td>\n",
       "      <td>1331.0</td>\n",
       "      <td>793</td>\n",
       "      <td>646</td>\n",
       "      <td>450</td>\n",
       "      <td>585</td>\n",
       "      <td>216</td>\n",
       "      <td>Central Tennessee Region</td>\n",
       "      <td>2020-07</td>\n",
       "    </tr>\n",
       "  </tbody>\n",
       "</table>\n",
       "</div>"
      ],
      "text/plain": [
       "   n Total Prevalence  n Hispanic Prevalence  n Asian Prevalence  \\\n",
       "0                1422                   21.0                11.0   \n",
       "1                1070                   17.0                 9.0   \n",
       "2                3599                  103.0               147.0   \n",
       "3                1230                   10.0                 9.0   \n",
       "4                1439                   27.0                19.0   \n",
       "\n",
       "   n Black Prevalence  n White Prevalence  n Female Prevalence  \\\n",
       "0               104.0              1274.0                  737   \n",
       "1                19.0              1013.0                  583   \n",
       "2               210.0              3050.0                 1987   \n",
       "3                20.0              1177.0                  658   \n",
       "4                40.0              1331.0                  793   \n",
       "\n",
       "   n Male Prevalence  n 50-64 Years Prevalence  n 30-49 Years Prevalence  \\\n",
       "0                685                       504                       512   \n",
       "1                487                       362                       389   \n",
       "2               1612                      1266                      1310   \n",
       "3                572                       466                       416   \n",
       "4                646                       450                       585   \n",
       "\n",
       "   n 16-29 Years Prevalence                                        Region  \\\n",
       "0                       179                                Alabama Region   \n",
       "1                       136                       Central Kentucky Region   \n",
       "2                       480  Central Maryland and National Capital Region   \n",
       "3                       136         Central Missouri and St. Louis Region   \n",
       "4                       216                      Central Tennessee Region   \n",
       "\n",
       "  Year and Month  \n",
       "0        2020-07  \n",
       "1        2020-07  \n",
       "2        2020-07  \n",
       "3        2020-07  \n",
       "4        2020-07  "
      ]
     },
     "execution_count": 50,
     "metadata": {},
     "output_type": "execute_result"
    }
   ],
   "source": [
    "BloodDonorSeroprevalence.head()"
   ]
  },
  {
   "cell_type": "code",
   "execution_count": 51,
   "id": "bb98bfad",
   "metadata": {},
   "outputs": [
    {
     "name": "stderr",
     "output_type": "stream",
     "text": [
      "C:\\Users\\12679\\AppData\\Local\\Temp\\ipykernel_40132\\603360309.py:1: SettingWithCopyWarning: \n",
      "A value is trying to be set on a copy of a slice from a DataFrame\n",
      "\n",
      "See the caveats in the documentation: https://pandas.pydata.org/pandas-docs/stable/user_guide/indexing.html#returning-a-view-versus-a-copy\n",
      "  BloodDonorSeroprevalence.dropna(inplace=True)\n"
     ]
    }
   ],
   "source": [
    "BloodDonorSeroprevalence.dropna(inplace=True)"
   ]
  },
  {
   "cell_type": "code",
   "execution_count": 52,
   "id": "22b14573",
   "metadata": {},
   "outputs": [],
   "source": [
    "BloodDonorSeroprevalence.to_csv('/Users/12679/Documents/DataScience/DSO110/Lesson3/Lesson3A/BloodDonorSeroprevalence.csv')"
   ]
  },
  {
   "cell_type": "markdown",
   "id": "c7f91dee",
   "metadata": {},
   "source": [
    "## Dependent T-Test for my Variables DSO105 Lesson 1 page 8"
   ]
  },
  {
   "cell_type": "markdown",
   "id": "febbb2af",
   "metadata": {},
   "source": [
    "## Are the numbers of prevalence of antibodies similar between Hispanic and Asian? "
   ]
  },
  {
   "cell_type": "markdown",
   "id": "b6912913",
   "metadata": {},
   "source": [
    "## Test for Normality"
   ]
  },
  {
   "cell_type": "markdown",
   "id": "40ddc116",
   "metadata": {},
   "source": [
    "## Test Assumptions"
   ]
  },
  {
   "cell_type": "code",
   "execution_count": 53,
   "id": "f6f94c03",
   "metadata": {},
   "outputs": [
    {
     "data": {
      "text/plain": [
       "<AxesSubplot:>"
      ]
     },
     "execution_count": 53,
     "metadata": {},
     "output_type": "execute_result"
    },
    {
     "data": {
      "image/png": "[encoded data removed]",
      "text/plain": [
       "<Figure size 432x288 with 1 Axes>"
      ]
     },
     "metadata": {
      "needs_background": "light"
     },
     "output_type": "display_data"
    }
   ],
   "source": [
    "BloodDonorSeroprevalence['n Hispanic Prevalence'].hist()"
   ]
  },
  {
   "cell_type": "code",
   "execution_count": 54,
   "id": "4b34f1e8",
   "metadata": {},
   "outputs": [
    {
     "data": {
      "text/plain": [
       "<AxesSubplot:>"
      ]
     },
     "execution_count": 54,
     "metadata": {},
     "output_type": "execute_result"
    },
    {
     "data": {
      "image/png": "[encoded data removed]",
      "text/plain": [
       "<Figure size 432x288 with 1 Axes>"
      ]
     },
     "metadata": {
      "needs_background": "light"
     },
     "output_type": "display_data"
    }
   ],
   "source": [
    "BloodDonorSeroprevalence['n Asian Prevalence'].hist()"
   ]
  },
  {
   "cell_type": "markdown",
   "id": "61c06e00",
   "metadata": {},
   "source": [
    "## Dependent t-Test"
   ]
  },
  {
   "cell_type": "markdown",
   "id": "8151b798",
   "metadata": {},
   "source": [
    "## Run the Analysis"
   ]
  },
  {
   "cell_type": "code",
   "execution_count": 55,
   "id": "d0a30f2b",
   "metadata": {},
   "outputs": [
    {
     "data": {
      "text/plain": [
       "Ttest_relResult(statistic=10.268619328838005, pvalue=8.585015780557608e-24)"
      ]
     },
     "execution_count": 55,
     "metadata": {},
     "output_type": "execute_result"
    }
   ],
   "source": [
    "stats.ttest_rel(BloodDonorSeroprevalence['n Hispanic Prevalence'], BloodDonorSeroprevalence['n Asian Prevalence'])"
   ]
  },
  {
   "cell_type": "markdown",
   "id": "869c49b4",
   "metadata": {},
   "source": [
    "## p value is less than .05 so there is a significant change in the prevalence for antibodies between Hispanic and Asian. T test value is high\n"
   ]
  },
  {
   "cell_type": "markdown",
   "id": "9eb6bcb4",
   "metadata": {},
   "source": [
    "## Are the numbers of prevalence of antibodies similar between Black and White?¶"
   ]
  },
  {
   "cell_type": "markdown",
   "id": "667b2499",
   "metadata": {},
   "source": [
    "## Test for Normality"
   ]
  },
  {
   "cell_type": "markdown",
   "id": "02870537",
   "metadata": {},
   "source": [
    "## Test Assumptions"
   ]
  },
  {
   "cell_type": "code",
   "execution_count": 56,
   "id": "73e422c3",
   "metadata": {},
   "outputs": [
    {
     "data": {
      "text/plain": [
       "<AxesSubplot:>"
      ]
     },
     "execution_count": 56,
     "metadata": {},
     "output_type": "execute_result"
    },
    {
     "data": {
      "image/png": "[encoded data removed]",
      "text/plain": [
       "<Figure size 432x288 with 1 Axes>"
      ]
     },
     "metadata": {
      "needs_background": "light"
     },
     "output_type": "display_data"
    }
   ],
   "source": [
    "BloodDonorSeroprevalence['n Black Prevalence'].hist()"
   ]
  },
  {
   "cell_type": "code",
   "execution_count": 57,
   "id": "503cd81a",
   "metadata": {},
   "outputs": [
    {
     "data": {
      "text/plain": [
       "<AxesSubplot:>"
      ]
     },
     "execution_count": 57,
     "metadata": {},
     "output_type": "execute_result"
    },
    {
     "data": {
      "image/png": "[encoded data removed]",
      "text/plain": [
       "<Figure size 432x288 with 1 Axes>"
      ]
     },
     "metadata": {
      "needs_background": "light"
     },
     "output_type": "display_data"
    }
   ],
   "source": [
    "BloodDonorSeroprevalence['n White Prevalence'].hist()"
   ]
  },
  {
   "cell_type": "markdown",
   "id": "fbbe2382",
   "metadata": {},
   "source": [
    "## Dependent t-Test\n",
    "## Run the Analysis"
   ]
  },
  {
   "cell_type": "code",
   "execution_count": 58,
   "id": "972f276e",
   "metadata": {},
   "outputs": [
    {
     "data": {
      "text/plain": [
       "Ttest_relResult(statistic=-11.837247565277503, pvalue=1.0722593923242374e-30)"
      ]
     },
     "execution_count": 58,
     "metadata": {},
     "output_type": "execute_result"
    }
   ],
   "source": [
    "stats.ttest_rel(BloodDonorSeroprevalence['n Black Prevalence'], BloodDonorSeroprevalence['n White Prevalence'])"
   ]
  },
  {
   "cell_type": "markdown",
   "id": "a41dd176",
   "metadata": {},
   "source": [
    "## p value is less than .05 so there is a significant change in the prevalence for antibodies between Black and White. T test value is high"
   ]
  },
  {
   "cell_type": "markdown",
   "id": "6393d5fc",
   "metadata": {},
   "source": [
    "## Are the numbers of prevalence of antibodies similar between the age of 16-29 years and 30-49 years?"
   ]
  },
  {
   "cell_type": "markdown",
   "id": "4960c62b",
   "metadata": {},
   "source": [
    "## Test for Normality\n",
    "## Test Assumptions"
   ]
  },
  {
   "cell_type": "code",
   "execution_count": 59,
   "id": "a9a2f012",
   "metadata": {},
   "outputs": [
    {
     "data": {
      "text/plain": [
       "<AxesSubplot:>"
      ]
     },
     "execution_count": 59,
     "metadata": {},
     "output_type": "execute_result"
    },
    {
     "data": {
      "image/png": "[encoded data removed]",
      "text/plain": [
       "<Figure size 432x288 with 1 Axes>"
      ]
     },
     "metadata": {
      "needs_background": "light"
     },
     "output_type": "display_data"
    }
   ],
   "source": [
    "BloodDonorSeroprevalence['n 30-49 Years Prevalence'].hist()"
   ]
  },
  {
   "cell_type": "code",
   "execution_count": 60,
   "id": "94478284",
   "metadata": {},
   "outputs": [
    {
     "data": {
      "text/plain": [
       "<AxesSubplot:>"
      ]
     },
     "execution_count": 60,
     "metadata": {},
     "output_type": "execute_result"
    },
    {
     "data": {
      "image/png": "[encoded data removed]",
      "text/plain": [
       "<Figure size 432x288 with 1 Axes>"
      ]
     },
     "metadata": {
      "needs_background": "light"
     },
     "output_type": "display_data"
    }
   ],
   "source": [
    "BloodDonorSeroprevalence['n 16-29 Years Prevalence'].hist()"
   ]
  },
  {
   "cell_type": "markdown",
   "id": "d73bf9fe",
   "metadata": {},
   "source": [
    "## Dependent t-Test\n",
    "## Run the Analysis"
   ]
  },
  {
   "cell_type": "code",
   "execution_count": 61,
   "id": "c9f38baf",
   "metadata": {},
   "outputs": [
    {
     "data": {
      "text/plain": [
       "Ttest_relResult(statistic=-11.530822282019967, pvalue=2.7559724901913575e-29)"
      ]
     },
     "execution_count": 61,
     "metadata": {},
     "output_type": "execute_result"
    }
   ],
   "source": [
    "stats.ttest_rel(BloodDonorSeroprevalence['n 16-29 Years Prevalence'], BloodDonorSeroprevalence['n 30-49 Years Prevalence'])"
   ]
  },
  {
   "cell_type": "markdown",
   "id": "3e043adb",
   "metadata": {},
   "source": [
    "## p value is less than .05 so there is a significant change in the prevalence for antibodies between 16-29 years and 39-49 years. T test value is high"
   ]
  },
  {
   "cell_type": "markdown",
   "id": "ce7e0475",
   "metadata": {},
   "source": [
    "## Are the numbers of prevalence of antibodies similar between Male and Female?"
   ]
  },
  {
   "cell_type": "markdown",
   "id": "df97181f",
   "metadata": {},
   "source": [
    "## Test for Normality\n",
    "## Test Assumptions"
   ]
  },
  {
   "cell_type": "code",
   "execution_count": 62,
   "id": "4f8b3129",
   "metadata": {},
   "outputs": [
    {
     "data": {
      "text/plain": [
       "<AxesSubplot:>"
      ]
     },
     "execution_count": 62,
     "metadata": {},
     "output_type": "execute_result"
    },
    {
     "data": {
      "image/png": "[encoded data removed]",
      "text/plain": [
       "<Figure size 432x288 with 1 Axes>"
      ]
     },
     "metadata": {
      "needs_background": "light"
     },
     "output_type": "display_data"
    }
   ],
   "source": [
    "BloodDonorSeroprevalence['n Male Prevalence'].hist()"
   ]
  },
  {
   "cell_type": "code",
   "execution_count": 63,
   "id": "28fa991c",
   "metadata": {},
   "outputs": [
    {
     "data": {
      "text/plain": [
       "<AxesSubplot:>"
      ]
     },
     "execution_count": 63,
     "metadata": {},
     "output_type": "execute_result"
    },
    {
     "data": {
      "image/png": "[encoded data removed]",
      "text/plain": [
       "<Figure size 432x288 with 1 Axes>"
      ]
     },
     "metadata": {
      "needs_background": "light"
     },
     "output_type": "display_data"
    }
   ],
   "source": [
    "BloodDonorSeroprevalence['n Female Prevalence'].hist()"
   ]
  },
  {
   "cell_type": "markdown",
   "id": "920dc014",
   "metadata": {},
   "source": [
    "## Dependent t-Test\n",
    "## Run the Analysis"
   ]
  },
  {
   "cell_type": "code",
   "execution_count": 64,
   "id": "a9c0bffe",
   "metadata": {},
   "outputs": [
    {
     "data": {
      "text/plain": [
       "Ttest_relResult(statistic=-3.3233108141477126, pvalue=0.0009156678523149421)"
      ]
     },
     "execution_count": 64,
     "metadata": {},
     "output_type": "execute_result"
    }
   ],
   "source": [
    "stats.ttest_rel(BloodDonorSeroprevalence['n Male Prevalence'], BloodDonorSeroprevalence['n Female Prevalence'])"
   ]
  },
  {
   "cell_type": "markdown",
   "id": "6355e70d",
   "metadata": {},
   "source": [
    "## p value is less than .05 so there is a significant change in the prevalence for antibodies between Male and Female. T test value is little high"
   ]
  },
  {
   "cell_type": "markdown",
   "id": "f6758c05",
   "metadata": {},
   "source": [
    "## k-Means Clustering in Python"
   ]
  },
  {
   "cell_type": "markdown",
   "id": "0b3937d9",
   "metadata": {},
   "source": [
    "## Convert Floats to Integers"
   ]
  },
  {
   "cell_type": "code",
   "execution_count": 65,
   "id": "f49d49ac",
   "metadata": {},
   "outputs": [
    {
     "name": "stdout",
     "output_type": "stream",
     "text": [
      "<class 'pandas.core.frame.DataFrame'>\n",
      "Int64Index: 1234 entries, 0 to 1269\n",
      "Data columns (total 12 columns):\n",
      " #   Column                    Non-Null Count  Dtype  \n",
      "---  ------                    --------------  -----  \n",
      " 0   n Total Prevalence        1234 non-null   int64  \n",
      " 1   n Hispanic Prevalence     1234 non-null   float64\n",
      " 2   n Asian Prevalence        1234 non-null   float64\n",
      " 3   n Black Prevalence        1234 non-null   float64\n",
      " 4   n White Prevalence        1234 non-null   float64\n",
      " 5   n Female Prevalence       1234 non-null   int64  \n",
      " 6   n Male Prevalence         1234 non-null   int64  \n",
      " 7   n 50-64 Years Prevalence  1234 non-null   int64  \n",
      " 8   n 30-49 Years Prevalence  1234 non-null   int64  \n",
      " 9   n 16-29 Years Prevalence  1234 non-null   int64  \n",
      " 10  Region                    1234 non-null   object \n",
      " 11  Year and Month            1234 non-null   object \n",
      "dtypes: float64(4), int64(6), object(2)\n",
      "memory usage: 125.3+ KB\n"
     ]
    }
   ],
   "source": [
    "BloodDonorSeroprevalence.info()"
   ]
  },
  {
   "cell_type": "markdown",
   "id": "4a464b6c",
   "metadata": {},
   "source": [
    "## Drop The String Column"
   ]
  },
  {
   "cell_type": "code",
   "execution_count": 66,
   "id": "9f16b9a0",
   "metadata": {},
   "outputs": [
    {
     "data": {
      "text/html": [
       "<div>\n",
       "<style scoped>\n",
       "    .dataframe tbody tr th:only-of-type {\n",
       "        vertical-align: middle;\n",
       "    }\n",
       "\n",
       "    .dataframe tbody tr th {\n",
       "        vertical-align: top;\n",
       "    }\n",
       "\n",
       "    .dataframe thead th {\n",
       "        text-align: right;\n",
       "    }\n",
       "</style>\n",
       "<table border=\"1\" class=\"dataframe\">\n",
       "  <thead>\n",
       "    <tr style=\"text-align: right;\">\n",
       "      <th></th>\n",
       "      <th>n Total Prevalence</th>\n",
       "      <th>n Female Prevalence</th>\n",
       "      <th>n Male Prevalence</th>\n",
       "      <th>n 50-64 Years Prevalence</th>\n",
       "      <th>n 30-49 Years Prevalence</th>\n",
       "      <th>n 16-29 Years Prevalence</th>\n",
       "    </tr>\n",
       "  </thead>\n",
       "  <tbody>\n",
       "    <tr>\n",
       "      <th>0</th>\n",
       "      <td>1422</td>\n",
       "      <td>737</td>\n",
       "      <td>685</td>\n",
       "      <td>504</td>\n",
       "      <td>512</td>\n",
       "      <td>179</td>\n",
       "    </tr>\n",
       "    <tr>\n",
       "      <th>1</th>\n",
       "      <td>1070</td>\n",
       "      <td>583</td>\n",
       "      <td>487</td>\n",
       "      <td>362</td>\n",
       "      <td>389</td>\n",
       "      <td>136</td>\n",
       "    </tr>\n",
       "    <tr>\n",
       "      <th>2</th>\n",
       "      <td>3599</td>\n",
       "      <td>1987</td>\n",
       "      <td>1612</td>\n",
       "      <td>1266</td>\n",
       "      <td>1310</td>\n",
       "      <td>480</td>\n",
       "    </tr>\n",
       "    <tr>\n",
       "      <th>3</th>\n",
       "      <td>1230</td>\n",
       "      <td>658</td>\n",
       "      <td>572</td>\n",
       "      <td>466</td>\n",
       "      <td>416</td>\n",
       "      <td>136</td>\n",
       "    </tr>\n",
       "    <tr>\n",
       "      <th>4</th>\n",
       "      <td>1439</td>\n",
       "      <td>793</td>\n",
       "      <td>646</td>\n",
       "      <td>450</td>\n",
       "      <td>585</td>\n",
       "      <td>216</td>\n",
       "    </tr>\n",
       "  </tbody>\n",
       "</table>\n",
       "</div>"
      ],
      "text/plain": [
       "   n Total Prevalence  n Female Prevalence  n Male Prevalence  \\\n",
       "0                1422                  737                685   \n",
       "1                1070                  583                487   \n",
       "2                3599                 1987               1612   \n",
       "3                1230                  658                572   \n",
       "4                1439                  793                646   \n",
       "\n",
       "   n 50-64 Years Prevalence  n 30-49 Years Prevalence  \\\n",
       "0                       504                       512   \n",
       "1                       362                       389   \n",
       "2                      1266                      1310   \n",
       "3                       466                       416   \n",
       "4                       450                       585   \n",
       "\n",
       "   n 16-29 Years Prevalence  \n",
       "0                       179  \n",
       "1                       136  \n",
       "2                       480  \n",
       "3                       136  \n",
       "4                       216  "
      ]
     },
     "execution_count": 66,
     "metadata": {},
     "output_type": "execute_result"
    }
   ],
   "source": [
    "BloodDonorSeroprevalenceTrimmed = BloodDonorSeroprevalence.drop(['n Hispanic Prevalence', 'n Asian Prevalence', \n",
    "                                                                 'n Black Prevalence', 'n White Prevalence', 'Region', \n",
    "                                                                 'Year and Month'], axis=1)\n",
    "BloodDonorSeroprevalenceTrimmed.head()\n"
   ]
  },
  {
   "cell_type": "code",
   "execution_count": 67,
   "id": "82eeba3d",
   "metadata": {},
   "outputs": [
    {
     "name": "stdout",
     "output_type": "stream",
     "text": [
      "<class 'pandas.core.frame.DataFrame'>\n",
      "Int64Index: 1234 entries, 0 to 1269\n",
      "Data columns (total 6 columns):\n",
      " #   Column                    Non-Null Count  Dtype\n",
      "---  ------                    --------------  -----\n",
      " 0   n Total Prevalence        1234 non-null   int64\n",
      " 1   n Female Prevalence       1234 non-null   int64\n",
      " 2   n Male Prevalence         1234 non-null   int64\n",
      " 3   n 50-64 Years Prevalence  1234 non-null   int64\n",
      " 4   n 30-49 Years Prevalence  1234 non-null   int64\n",
      " 5   n 16-29 Years Prevalence  1234 non-null   int64\n",
      "dtypes: int64(6)\n",
      "memory usage: 67.5 KB\n"
     ]
    }
   ],
   "source": [
    "BloodDonorSeroprevalenceTrimmed.info()"
   ]
  },
  {
   "cell_type": "markdown",
   "id": "1d237430",
   "metadata": {},
   "source": [
    "## Perform k-Means Clustering"
   ]
  },
  {
   "cell_type": "markdown",
   "id": "1b1281de",
   "metadata": {},
   "source": [
    "## Testing 2 Clusters"
   ]
  },
  {
   "cell_type": "code",
   "execution_count": 68,
   "id": "8045aa54",
   "metadata": {},
   "outputs": [
    {
     "data": {
      "text/plain": [
       "KMeans(n_clusters=2)"
      ]
     },
     "execution_count": 68,
     "metadata": {},
     "output_type": "execute_result"
    }
   ],
   "source": [
    "kmeans = KMeans(n_clusters=2)\n",
    "kmeans.fit(BloodDonorSeroprevalenceTrimmed)"
   ]
  },
  {
   "cell_type": "code",
   "execution_count": 69,
   "id": "4b18d674",
   "metadata": {},
   "outputs": [],
   "source": [
    "BloodDonorSeroprevalenceTrimmed['Category'] = kmeans.labels_"
   ]
  },
  {
   "cell_type": "code",
   "execution_count": 70,
   "id": "b60fc588",
   "metadata": {},
   "outputs": [],
   "source": [
    "BloodDonorSeroprevalenceTrimmed['Group'] = kmeans.labels_"
   ]
  },
  {
   "cell_type": "code",
   "execution_count": 71,
   "id": "c89f6d9a",
   "metadata": {},
   "outputs": [
    {
     "data": {
      "text/html": [
       "<div>\n",
       "<style scoped>\n",
       "    .dataframe tbody tr th:only-of-type {\n",
       "        vertical-align: middle;\n",
       "    }\n",
       "\n",
       "    .dataframe tbody tr th {\n",
       "        vertical-align: top;\n",
       "    }\n",
       "\n",
       "    .dataframe thead th {\n",
       "        text-align: right;\n",
       "    }\n",
       "</style>\n",
       "<table border=\"1\" class=\"dataframe\">\n",
       "  <thead>\n",
       "    <tr style=\"text-align: right;\">\n",
       "      <th></th>\n",
       "      <th>n Total Prevalence</th>\n",
       "      <th>n Female Prevalence</th>\n",
       "      <th>n Male Prevalence</th>\n",
       "      <th>n 50-64 Years Prevalence</th>\n",
       "      <th>n 30-49 Years Prevalence</th>\n",
       "      <th>n 16-29 Years Prevalence</th>\n",
       "      <th>Category</th>\n",
       "      <th>Group</th>\n",
       "    </tr>\n",
       "  </thead>\n",
       "  <tbody>\n",
       "    <tr>\n",
       "      <th>0</th>\n",
       "      <td>1422</td>\n",
       "      <td>737</td>\n",
       "      <td>685</td>\n",
       "      <td>504</td>\n",
       "      <td>512</td>\n",
       "      <td>179</td>\n",
       "      <td>0</td>\n",
       "      <td>0</td>\n",
       "    </tr>\n",
       "    <tr>\n",
       "      <th>1</th>\n",
       "      <td>1070</td>\n",
       "      <td>583</td>\n",
       "      <td>487</td>\n",
       "      <td>362</td>\n",
       "      <td>389</td>\n",
       "      <td>136</td>\n",
       "      <td>0</td>\n",
       "      <td>0</td>\n",
       "    </tr>\n",
       "    <tr>\n",
       "      <th>2</th>\n",
       "      <td>3599</td>\n",
       "      <td>1987</td>\n",
       "      <td>1612</td>\n",
       "      <td>1266</td>\n",
       "      <td>1310</td>\n",
       "      <td>480</td>\n",
       "      <td>0</td>\n",
       "      <td>0</td>\n",
       "    </tr>\n",
       "    <tr>\n",
       "      <th>3</th>\n",
       "      <td>1230</td>\n",
       "      <td>658</td>\n",
       "      <td>572</td>\n",
       "      <td>466</td>\n",
       "      <td>416</td>\n",
       "      <td>136</td>\n",
       "      <td>0</td>\n",
       "      <td>0</td>\n",
       "    </tr>\n",
       "    <tr>\n",
       "      <th>4</th>\n",
       "      <td>1439</td>\n",
       "      <td>793</td>\n",
       "      <td>646</td>\n",
       "      <td>450</td>\n",
       "      <td>585</td>\n",
       "      <td>216</td>\n",
       "      <td>0</td>\n",
       "      <td>0</td>\n",
       "    </tr>\n",
       "  </tbody>\n",
       "</table>\n",
       "</div>"
      ],
      "text/plain": [
       "   n Total Prevalence  n Female Prevalence  n Male Prevalence  \\\n",
       "0                1422                  737                685   \n",
       "1                1070                  583                487   \n",
       "2                3599                 1987               1612   \n",
       "3                1230                  658                572   \n",
       "4                1439                  793                646   \n",
       "\n",
       "   n 50-64 Years Prevalence  n 30-49 Years Prevalence  \\\n",
       "0                       504                       512   \n",
       "1                       362                       389   \n",
       "2                      1266                      1310   \n",
       "3                       466                       416   \n",
       "4                       450                       585   \n",
       "\n",
       "   n 16-29 Years Prevalence  Category  Group  \n",
       "0                       179         0      0  \n",
       "1                       136         0      0  \n",
       "2                       480         0      0  \n",
       "3                       136         0      0  \n",
       "4                       216         0      0  "
      ]
     },
     "execution_count": 71,
     "metadata": {},
     "output_type": "execute_result"
    }
   ],
   "source": [
    "BloodDonorSeroprevalenceTrimmed.head()"
   ]
  },
  {
   "cell_type": "code",
   "execution_count": 72,
   "id": "fda05317",
   "metadata": {},
   "outputs": [
    {
     "data": {
      "text/html": [
       "<div>\n",
       "<style scoped>\n",
       "    .dataframe tbody tr th:only-of-type {\n",
       "        vertical-align: middle;\n",
       "    }\n",
       "\n",
       "    .dataframe tbody tr th {\n",
       "        vertical-align: top;\n",
       "    }\n",
       "\n",
       "    .dataframe thead th {\n",
       "        text-align: right;\n",
       "    }\n",
       "</style>\n",
       "<table border=\"1\" class=\"dataframe\">\n",
       "  <thead>\n",
       "    <tr style=\"text-align: right;\">\n",
       "      <th></th>\n",
       "      <th>n Total Prevalence</th>\n",
       "      <th>n Female Prevalence</th>\n",
       "      <th>n Male Prevalence</th>\n",
       "      <th>n 50-64 Years Prevalence</th>\n",
       "      <th>n 30-49 Years Prevalence</th>\n",
       "      <th>n 16-29 Years Prevalence</th>\n",
       "      <th>Category</th>\n",
       "    </tr>\n",
       "    <tr>\n",
       "      <th>Group</th>\n",
       "      <th></th>\n",
       "      <th></th>\n",
       "      <th></th>\n",
       "      <th></th>\n",
       "      <th></th>\n",
       "      <th></th>\n",
       "      <th></th>\n",
       "    </tr>\n",
       "  </thead>\n",
       "  <tbody>\n",
       "    <tr>\n",
       "      <th>0</th>\n",
       "      <td>3887.078947</td>\n",
       "      <td>1960.845395</td>\n",
       "      <td>1926.233553</td>\n",
       "      <td>1411.734375</td>\n",
       "      <td>1169.083882</td>\n",
       "      <td>471.025493</td>\n",
       "      <td>0.0</td>\n",
       "    </tr>\n",
       "    <tr>\n",
       "      <th>1</th>\n",
       "      <td>134042.111111</td>\n",
       "      <td>67379.111111</td>\n",
       "      <td>66663.000000</td>\n",
       "      <td>48608.055556</td>\n",
       "      <td>40576.666667</td>\n",
       "      <td>16330.777778</td>\n",
       "      <td>1.0</td>\n",
       "    </tr>\n",
       "  </tbody>\n",
       "</table>\n",
       "</div>"
      ],
      "text/plain": [
       "       n Total Prevalence  n Female Prevalence  n Male Prevalence  \\\n",
       "Group                                                               \n",
       "0             3887.078947          1960.845395        1926.233553   \n",
       "1           134042.111111         67379.111111       66663.000000   \n",
       "\n",
       "       n 50-64 Years Prevalence  n 30-49 Years Prevalence  \\\n",
       "Group                                                       \n",
       "0                   1411.734375               1169.083882   \n",
       "1                  48608.055556              40576.666667   \n",
       "\n",
       "       n 16-29 Years Prevalence  Category  \n",
       "Group                                      \n",
       "0                    471.025493       0.0  \n",
       "1                  16330.777778       1.0  "
      ]
     },
     "execution_count": 72,
     "metadata": {},
     "output_type": "execute_result"
    }
   ],
   "source": [
    "BloodDonorSeroprevalenceTrimmed.groupby('Group').mean()"
   ]
  },
  {
   "cell_type": "code",
   "execution_count": 73,
   "id": "df4b1fa7",
   "metadata": {},
   "outputs": [
    {
     "data": {
      "text/html": [
       "<div>\n",
       "<style scoped>\n",
       "    .dataframe tbody tr th:only-of-type {\n",
       "        vertical-align: middle;\n",
       "    }\n",
       "\n",
       "    .dataframe tbody tr th {\n",
       "        vertical-align: top;\n",
       "    }\n",
       "\n",
       "    .dataframe thead th {\n",
       "        text-align: right;\n",
       "    }\n",
       "</style>\n",
       "<table border=\"1\" class=\"dataframe\">\n",
       "  <thead>\n",
       "    <tr style=\"text-align: right;\">\n",
       "      <th></th>\n",
       "      <th>n Total Prevalence</th>\n",
       "      <th>n Female Prevalence</th>\n",
       "      <th>n Male Prevalence</th>\n",
       "      <th>n 50-64 Years Prevalence</th>\n",
       "      <th>n 30-49 Years Prevalence</th>\n",
       "      <th>n 16-29 Years Prevalence</th>\n",
       "      <th>Group</th>\n",
       "    </tr>\n",
       "    <tr>\n",
       "      <th>Category</th>\n",
       "      <th></th>\n",
       "      <th></th>\n",
       "      <th></th>\n",
       "      <th></th>\n",
       "      <th></th>\n",
       "      <th></th>\n",
       "      <th></th>\n",
       "    </tr>\n",
       "  </thead>\n",
       "  <tbody>\n",
       "    <tr>\n",
       "      <th>0</th>\n",
       "      <td>3887.078947</td>\n",
       "      <td>1960.845395</td>\n",
       "      <td>1926.233553</td>\n",
       "      <td>1411.734375</td>\n",
       "      <td>1169.083882</td>\n",
       "      <td>471.025493</td>\n",
       "      <td>0.0</td>\n",
       "    </tr>\n",
       "    <tr>\n",
       "      <th>1</th>\n",
       "      <td>134042.111111</td>\n",
       "      <td>67379.111111</td>\n",
       "      <td>66663.000000</td>\n",
       "      <td>48608.055556</td>\n",
       "      <td>40576.666667</td>\n",
       "      <td>16330.777778</td>\n",
       "      <td>1.0</td>\n",
       "    </tr>\n",
       "  </tbody>\n",
       "</table>\n",
       "</div>"
      ],
      "text/plain": [
       "          n Total Prevalence  n Female Prevalence  n Male Prevalence  \\\n",
       "Category                                                               \n",
       "0                3887.078947          1960.845395        1926.233553   \n",
       "1              134042.111111         67379.111111       66663.000000   \n",
       "\n",
       "          n 50-64 Years Prevalence  n 30-49 Years Prevalence  \\\n",
       "Category                                                       \n",
       "0                      1411.734375               1169.083882   \n",
       "1                     48608.055556              40576.666667   \n",
       "\n",
       "          n 16-29 Years Prevalence  Group  \n",
       "Category                                   \n",
       "0                       471.025493    0.0  \n",
       "1                     16330.777778    1.0  "
      ]
     },
     "execution_count": 73,
     "metadata": {},
     "output_type": "execute_result"
    }
   ],
   "source": [
    "BloodDonorSeroprevalenceTrimmed.groupby('Category').mean()"
   ]
  },
  {
   "cell_type": "markdown",
   "id": "524a94d1",
   "metadata": {},
   "source": [
    "## Utilizing K-Means"
   ]
  },
  {
   "cell_type": "code",
   "execution_count": 74,
   "id": "788aded0",
   "metadata": {},
   "outputs": [
    {
     "data": {
      "text/plain": [
       "<matplotlib.collections.PathCollection at 0x1f24e0ac6a0>"
      ]
     },
     "execution_count": 74,
     "metadata": {},
     "output_type": "execute_result"
    },
    {
     "data": {
      "image/png": "[encoded data removed]",
      "text/plain": [
       "<Figure size 720x432 with 1 Axes>"
      ]
     },
     "metadata": {
      "needs_background": "light"
     },
     "output_type": "display_data"
    }
   ],
   "source": [
    "plt.figure(figsize=(10,6))\n",
    "plt.title('K Means')\n",
    "plt.scatter(BloodDonorSeroprevalenceTrimmed['n Female Prevalence'], BloodDonorSeroprevalenceTrimmed['n Male Prevalence'], c=kmeans.labels_, cmap='viridis')"
   ]
  },
  {
   "cell_type": "code",
   "execution_count": 75,
   "id": "39c7ce64",
   "metadata": {},
   "outputs": [
    {
     "data": {
      "text/plain": [
       "array([0, 0, 0, ..., 1, 1, 1])"
      ]
     },
     "execution_count": 75,
     "metadata": {},
     "output_type": "execute_result"
    }
   ],
   "source": [
    "kmeans.labels_"
   ]
  },
  {
   "cell_type": "code",
   "execution_count": 76,
   "id": "c876ed6c",
   "metadata": {},
   "outputs": [],
   "source": [
    "BloodDonorSeroprevalenceTrimmed['Group'] = kmeans.labels_"
   ]
  },
  {
   "cell_type": "code",
   "execution_count": 77,
   "id": "885bbf51",
   "metadata": {},
   "outputs": [
    {
     "data": {
      "text/plain": [
       "array([[  3887.07894737,   1960.84539474,   1926.23355263,\n",
       "          1411.734375  ,   1169.08388158,    471.02549342],\n",
       "       [134042.11111111,  67379.11111111,  66663.        ,\n",
       "         48608.05555556,  40576.66666667,  16330.77777778]])"
      ]
     },
     "execution_count": 77,
     "metadata": {},
     "output_type": "execute_result"
    }
   ],
   "source": [
    "kmeans.cluster_centers_"
   ]
  },
  {
   "cell_type": "code",
   "execution_count": 78,
   "id": "2ce28ee6",
   "metadata": {},
   "outputs": [
    {
     "data": {
      "text/plain": [
       "122780150913.49437"
      ]
     },
     "execution_count": 78,
     "metadata": {},
     "output_type": "execute_result"
    }
   ],
   "source": [
    "kmeans.inertia_"
   ]
  },
  {
   "cell_type": "code",
   "execution_count": 79,
   "id": "cde6e285",
   "metadata": {},
   "outputs": [
    {
     "data": {
      "text/plain": [
       "<matplotlib.collections.PathCollection at 0x1f24e66fc40>"
      ]
     },
     "execution_count": 79,
     "metadata": {},
     "output_type": "execute_result"
    },
    {
     "data": {
      "image/png": "[encoded data removed]",
      "text/plain": [
       "<Figure size 720x432 with 1 Axes>"
      ]
     },
     "metadata": {
      "needs_background": "light"
     },
     "output_type": "display_data"
    }
   ],
   "source": [
    "plt.figure(figsize=(10,6))\n",
    "plt.title('K Means')\n",
    "plt.scatter(BloodDonorSeroprevalenceTrimmed['n Total Prevalence'], BloodDonorSeroprevalenceTrimmed['n 30-49 Years Prevalence'], c=kmeans.labels_, cmap='viridis')"
   ]
  },
  {
   "cell_type": "code",
   "execution_count": 80,
   "id": "0a92352a",
   "metadata": {},
   "outputs": [
    {
     "data": {
      "text/plain": [
       "<matplotlib.collections.PathCollection at 0x1f24e6db880>"
      ]
     },
     "execution_count": 80,
     "metadata": {},
     "output_type": "execute_result"
    },
    {
     "data": {
      "image/png": "[encoded data removed]",
      "text/plain": [
       "<Figure size 720x432 with 1 Axes>"
      ]
     },
     "metadata": {
      "needs_background": "light"
     },
     "output_type": "display_data"
    }
   ],
   "source": [
    "plt.figure(figsize=(10,6))\n",
    "plt.title('K Means')\n",
    "plt.scatter(BloodDonorSeroprevalenceTrimmed['n Total Prevalence'], BloodDonorSeroprevalenceTrimmed['n Male Prevalence'], c=kmeans.labels_, cmap='viridis')"
   ]
  },
  {
   "cell_type": "code",
   "execution_count": 81,
   "id": "0411ba5e",
   "metadata": {},
   "outputs": [
    {
     "data": {
      "text/plain": [
       "<matplotlib.collections.PathCollection at 0x1f24e71ab80>"
      ]
     },
     "execution_count": 81,
     "metadata": {},
     "output_type": "execute_result"
    },
    {
     "data": {
      "image/png": "[encoded data removed]",
      "text/plain": [
       "<Figure size 720x432 with 1 Axes>"
      ]
     },
     "metadata": {
      "needs_background": "light"
     },
     "output_type": "display_data"
    }
   ],
   "source": [
    "plt.figure(figsize=(10,6))\n",
    "plt.title('K Means')\n",
    "plt.scatter(BloodDonorSeroprevalenceTrimmed['n 30-49 Years Prevalence'], BloodDonorSeroprevalenceTrimmed['n Male Prevalence'], c=kmeans.labels_, cmap='viridis')"
   ]
  },
  {
   "cell_type": "code",
   "execution_count": 82,
   "id": "c65d1319",
   "metadata": {},
   "outputs": [
    {
     "data": {
      "text/plain": [
       "<matplotlib.collections.PathCollection at 0x1f23bc9ce80>"
      ]
     },
     "execution_count": 82,
     "metadata": {},
     "output_type": "execute_result"
    },
    {
     "data": {
      "image/png": "[encoded data removed]",
      "text/plain": [
       "<Figure size 720x432 with 1 Axes>"
      ]
     },
     "metadata": {
      "needs_background": "light"
     },
     "output_type": "display_data"
    }
   ],
   "source": [
    "plt.figure(figsize=(10,6))\n",
    "plt.title('K Means')\n",
    "plt.scatter(BloodDonorSeroprevalenceTrimmed['n 30-49 Years Prevalence'], BloodDonorSeroprevalenceTrimmed['n 16-29 Years Prevalence'], c=kmeans.labels_, cmap='viridis')"
   ]
  },
  {
   "cell_type": "markdown",
   "id": "f44ab439",
   "metadata": {},
   "source": [
    "## Add Labels To The Dataset"
   ]
  },
  {
   "cell_type": "code",
   "execution_count": 83,
   "id": "c0edc244",
   "metadata": {},
   "outputs": [],
   "source": [
    "BloodDonorSeroprevalenceTrimmed['Category'] = kmeans.labels_"
   ]
  },
  {
   "cell_type": "code",
   "execution_count": 84,
   "id": "b6b96101",
   "metadata": {},
   "outputs": [
    {
     "data": {
      "text/html": [
       "<div>\n",
       "<style scoped>\n",
       "    .dataframe tbody tr th:only-of-type {\n",
       "        vertical-align: middle;\n",
       "    }\n",
       "\n",
       "    .dataframe tbody tr th {\n",
       "        vertical-align: top;\n",
       "    }\n",
       "\n",
       "    .dataframe thead th {\n",
       "        text-align: right;\n",
       "    }\n",
       "</style>\n",
       "<table border=\"1\" class=\"dataframe\">\n",
       "  <thead>\n",
       "    <tr style=\"text-align: right;\">\n",
       "      <th></th>\n",
       "      <th>n Total Prevalence</th>\n",
       "      <th>n Female Prevalence</th>\n",
       "      <th>n Male Prevalence</th>\n",
       "      <th>n 50-64 Years Prevalence</th>\n",
       "      <th>n 30-49 Years Prevalence</th>\n",
       "      <th>n 16-29 Years Prevalence</th>\n",
       "      <th>Category</th>\n",
       "    </tr>\n",
       "    <tr>\n",
       "      <th>Group</th>\n",
       "      <th></th>\n",
       "      <th></th>\n",
       "      <th></th>\n",
       "      <th></th>\n",
       "      <th></th>\n",
       "      <th></th>\n",
       "      <th></th>\n",
       "    </tr>\n",
       "  </thead>\n",
       "  <tbody>\n",
       "    <tr>\n",
       "      <th>0</th>\n",
       "      <td>3887.078947</td>\n",
       "      <td>1960.845395</td>\n",
       "      <td>1926.233553</td>\n",
       "      <td>1411.734375</td>\n",
       "      <td>1169.083882</td>\n",
       "      <td>471.025493</td>\n",
       "      <td>0.0</td>\n",
       "    </tr>\n",
       "    <tr>\n",
       "      <th>1</th>\n",
       "      <td>134042.111111</td>\n",
       "      <td>67379.111111</td>\n",
       "      <td>66663.000000</td>\n",
       "      <td>48608.055556</td>\n",
       "      <td>40576.666667</td>\n",
       "      <td>16330.777778</td>\n",
       "      <td>1.0</td>\n",
       "    </tr>\n",
       "  </tbody>\n",
       "</table>\n",
       "</div>"
      ],
      "text/plain": [
       "       n Total Prevalence  n Female Prevalence  n Male Prevalence  \\\n",
       "Group                                                               \n",
       "0             3887.078947          1960.845395        1926.233553   \n",
       "1           134042.111111         67379.111111       66663.000000   \n",
       "\n",
       "       n 50-64 Years Prevalence  n 30-49 Years Prevalence  \\\n",
       "Group                                                       \n",
       "0                   1411.734375               1169.083882   \n",
       "1                  48608.055556              40576.666667   \n",
       "\n",
       "       n 16-29 Years Prevalence  Category  \n",
       "Group                                      \n",
       "0                    471.025493       0.0  \n",
       "1                  16330.777778       1.0  "
      ]
     },
     "execution_count": 84,
     "metadata": {},
     "output_type": "execute_result"
    }
   ],
   "source": [
    "BloodDonorSeroprevalenceTrimmed.groupby('Group').mean()"
   ]
  },
  {
   "cell_type": "code",
   "execution_count": 85,
   "id": "9fa06f2e",
   "metadata": {},
   "outputs": [
    {
     "data": {
      "text/html": [
       "<div>\n",
       "<style scoped>\n",
       "    .dataframe tbody tr th:only-of-type {\n",
       "        vertical-align: middle;\n",
       "    }\n",
       "\n",
       "    .dataframe tbody tr th {\n",
       "        vertical-align: top;\n",
       "    }\n",
       "\n",
       "    .dataframe thead th {\n",
       "        text-align: right;\n",
       "    }\n",
       "</style>\n",
       "<table border=\"1\" class=\"dataframe\">\n",
       "  <thead>\n",
       "    <tr style=\"text-align: right;\">\n",
       "      <th></th>\n",
       "      <th>n Total Prevalence</th>\n",
       "      <th>n Female Prevalence</th>\n",
       "      <th>n Male Prevalence</th>\n",
       "      <th>n 50-64 Years Prevalence</th>\n",
       "      <th>n 30-49 Years Prevalence</th>\n",
       "      <th>n 16-29 Years Prevalence</th>\n",
       "      <th>Category</th>\n",
       "      <th>Group</th>\n",
       "    </tr>\n",
       "  </thead>\n",
       "  <tbody>\n",
       "    <tr>\n",
       "      <th>0</th>\n",
       "      <td>1422</td>\n",
       "      <td>737</td>\n",
       "      <td>685</td>\n",
       "      <td>504</td>\n",
       "      <td>512</td>\n",
       "      <td>179</td>\n",
       "      <td>0</td>\n",
       "      <td>0</td>\n",
       "    </tr>\n",
       "    <tr>\n",
       "      <th>1</th>\n",
       "      <td>1070</td>\n",
       "      <td>583</td>\n",
       "      <td>487</td>\n",
       "      <td>362</td>\n",
       "      <td>389</td>\n",
       "      <td>136</td>\n",
       "      <td>0</td>\n",
       "      <td>0</td>\n",
       "    </tr>\n",
       "    <tr>\n",
       "      <th>2</th>\n",
       "      <td>3599</td>\n",
       "      <td>1987</td>\n",
       "      <td>1612</td>\n",
       "      <td>1266</td>\n",
       "      <td>1310</td>\n",
       "      <td>480</td>\n",
       "      <td>0</td>\n",
       "      <td>0</td>\n",
       "    </tr>\n",
       "    <tr>\n",
       "      <th>3</th>\n",
       "      <td>1230</td>\n",
       "      <td>658</td>\n",
       "      <td>572</td>\n",
       "      <td>466</td>\n",
       "      <td>416</td>\n",
       "      <td>136</td>\n",
       "      <td>0</td>\n",
       "      <td>0</td>\n",
       "    </tr>\n",
       "    <tr>\n",
       "      <th>4</th>\n",
       "      <td>1439</td>\n",
       "      <td>793</td>\n",
       "      <td>646</td>\n",
       "      <td>450</td>\n",
       "      <td>585</td>\n",
       "      <td>216</td>\n",
       "      <td>0</td>\n",
       "      <td>0</td>\n",
       "    </tr>\n",
       "  </tbody>\n",
       "</table>\n",
       "</div>"
      ],
      "text/plain": [
       "   n Total Prevalence  n Female Prevalence  n Male Prevalence  \\\n",
       "0                1422                  737                685   \n",
       "1                1070                  583                487   \n",
       "2                3599                 1987               1612   \n",
       "3                1230                  658                572   \n",
       "4                1439                  793                646   \n",
       "\n",
       "   n 50-64 Years Prevalence  n 30-49 Years Prevalence  \\\n",
       "0                       504                       512   \n",
       "1                       362                       389   \n",
       "2                      1266                      1310   \n",
       "3                       466                       416   \n",
       "4                       450                       585   \n",
       "\n",
       "   n 16-29 Years Prevalence  Category  Group  \n",
       "0                       179         0      0  \n",
       "1                       136         0      0  \n",
       "2                       480         0      0  \n",
       "3                       136         0      0  \n",
       "4                       216         0      0  "
      ]
     },
     "execution_count": 85,
     "metadata": {},
     "output_type": "execute_result"
    }
   ],
   "source": [
    "BloodDonorSeroprevalenceTrimmed.head()"
   ]
  },
  {
   "cell_type": "code",
   "execution_count": 86,
   "id": "65e08ab4",
   "metadata": {},
   "outputs": [
    {
     "data": {
      "text/html": [
       "<div>\n",
       "<style scoped>\n",
       "    .dataframe tbody tr th:only-of-type {\n",
       "        vertical-align: middle;\n",
       "    }\n",
       "\n",
       "    .dataframe tbody tr th {\n",
       "        vertical-align: top;\n",
       "    }\n",
       "\n",
       "    .dataframe thead th {\n",
       "        text-align: right;\n",
       "    }\n",
       "</style>\n",
       "<table border=\"1\" class=\"dataframe\">\n",
       "  <thead>\n",
       "    <tr style=\"text-align: right;\">\n",
       "      <th></th>\n",
       "      <th>n Total Prevalence</th>\n",
       "      <th>n Female Prevalence</th>\n",
       "      <th>n Male Prevalence</th>\n",
       "      <th>n 50-64 Years Prevalence</th>\n",
       "      <th>n 30-49 Years Prevalence</th>\n",
       "      <th>n 16-29 Years Prevalence</th>\n",
       "      <th>Category</th>\n",
       "      <th>Group</th>\n",
       "    </tr>\n",
       "  </thead>\n",
       "  <tbody>\n",
       "    <tr>\n",
       "      <th>0</th>\n",
       "      <td>1422</td>\n",
       "      <td>737</td>\n",
       "      <td>685</td>\n",
       "      <td>504</td>\n",
       "      <td>512</td>\n",
       "      <td>179</td>\n",
       "      <td>0</td>\n",
       "      <td>0</td>\n",
       "    </tr>\n",
       "    <tr>\n",
       "      <th>1</th>\n",
       "      <td>1070</td>\n",
       "      <td>583</td>\n",
       "      <td>487</td>\n",
       "      <td>362</td>\n",
       "      <td>389</td>\n",
       "      <td>136</td>\n",
       "      <td>0</td>\n",
       "      <td>0</td>\n",
       "    </tr>\n",
       "    <tr>\n",
       "      <th>2</th>\n",
       "      <td>3599</td>\n",
       "      <td>1987</td>\n",
       "      <td>1612</td>\n",
       "      <td>1266</td>\n",
       "      <td>1310</td>\n",
       "      <td>480</td>\n",
       "      <td>0</td>\n",
       "      <td>0</td>\n",
       "    </tr>\n",
       "    <tr>\n",
       "      <th>3</th>\n",
       "      <td>1230</td>\n",
       "      <td>658</td>\n",
       "      <td>572</td>\n",
       "      <td>466</td>\n",
       "      <td>416</td>\n",
       "      <td>136</td>\n",
       "      <td>0</td>\n",
       "      <td>0</td>\n",
       "    </tr>\n",
       "    <tr>\n",
       "      <th>4</th>\n",
       "      <td>1439</td>\n",
       "      <td>793</td>\n",
       "      <td>646</td>\n",
       "      <td>450</td>\n",
       "      <td>585</td>\n",
       "      <td>216</td>\n",
       "      <td>0</td>\n",
       "      <td>0</td>\n",
       "    </tr>\n",
       "    <tr>\n",
       "      <th>1252</th>\n",
       "      <td>116568</td>\n",
       "      <td>61691</td>\n",
       "      <td>54877</td>\n",
       "      <td>41941</td>\n",
       "      <td>39070</td>\n",
       "      <td>13597</td>\n",
       "      <td>1</td>\n",
       "      <td>1</td>\n",
       "    </tr>\n",
       "    <tr>\n",
       "      <th>1253</th>\n",
       "      <td>123393</td>\n",
       "      <td>62566</td>\n",
       "      <td>60827</td>\n",
       "      <td>44656</td>\n",
       "      <td>39335</td>\n",
       "      <td>14654</td>\n",
       "      <td>1</td>\n",
       "      <td>1</td>\n",
       "    </tr>\n",
       "    <tr>\n",
       "      <th>1254</th>\n",
       "      <td>131080</td>\n",
       "      <td>65328</td>\n",
       "      <td>65752</td>\n",
       "      <td>47878</td>\n",
       "      <td>40344</td>\n",
       "      <td>15926</td>\n",
       "      <td>1</td>\n",
       "      <td>1</td>\n",
       "    </tr>\n",
       "    <tr>\n",
       "      <th>1255</th>\n",
       "      <td>131761</td>\n",
       "      <td>66257</td>\n",
       "      <td>65504</td>\n",
       "      <td>47466</td>\n",
       "      <td>40882</td>\n",
       "      <td>16615</td>\n",
       "      <td>1</td>\n",
       "      <td>1</td>\n",
       "    </tr>\n",
       "    <tr>\n",
       "      <th>1256</th>\n",
       "      <td>134203</td>\n",
       "      <td>68263</td>\n",
       "      <td>65940</td>\n",
       "      <td>48290</td>\n",
       "      <td>41601</td>\n",
       "      <td>17916</td>\n",
       "      <td>1</td>\n",
       "      <td>1</td>\n",
       "    </tr>\n",
       "  </tbody>\n",
       "</table>\n",
       "</div>"
      ],
      "text/plain": [
       "      n Total Prevalence  n Female Prevalence  n Male Prevalence  \\\n",
       "0                   1422                  737                685   \n",
       "1                   1070                  583                487   \n",
       "2                   3599                 1987               1612   \n",
       "3                   1230                  658                572   \n",
       "4                   1439                  793                646   \n",
       "1252              116568                61691              54877   \n",
       "1253              123393                62566              60827   \n",
       "1254              131080                65328              65752   \n",
       "1255              131761                66257              65504   \n",
       "1256              134203                68263              65940   \n",
       "\n",
       "      n 50-64 Years Prevalence  n 30-49 Years Prevalence  \\\n",
       "0                          504                       512   \n",
       "1                          362                       389   \n",
       "2                         1266                      1310   \n",
       "3                          466                       416   \n",
       "4                          450                       585   \n",
       "1252                     41941                     39070   \n",
       "1253                     44656                     39335   \n",
       "1254                     47878                     40344   \n",
       "1255                     47466                     40882   \n",
       "1256                     48290                     41601   \n",
       "\n",
       "      n 16-29 Years Prevalence  Category  Group  \n",
       "0                          179         0      0  \n",
       "1                          136         0      0  \n",
       "2                          480         0      0  \n",
       "3                          136         0      0  \n",
       "4                          216         0      0  \n",
       "1252                     13597         1      1  \n",
       "1253                     14654         1      1  \n",
       "1254                     15926         1      1  \n",
       "1255                     16615         1      1  \n",
       "1256                     17916         1      1  "
      ]
     },
     "execution_count": 86,
     "metadata": {},
     "output_type": "execute_result"
    }
   ],
   "source": [
    "BloodDonorSeroprevalenceTrimmed.groupby('Group').head()"
   ]
  },
  {
   "cell_type": "markdown",
   "id": "bc1309ab",
   "metadata": {},
   "source": [
    "## Investigate Means by Category"
   ]
  },
  {
   "cell_type": "code",
   "execution_count": 87,
   "id": "732d352a",
   "metadata": {},
   "outputs": [
    {
     "data": {
      "text/plain": [
       "Category\n",
       "0      3887.078947\n",
       "1    134042.111111\n",
       "Name: n Total Prevalence, dtype: float64"
      ]
     },
     "execution_count": 87,
     "metadata": {},
     "output_type": "execute_result"
    }
   ],
   "source": [
    "BloodDonorSeroprevalenceTrimmed.groupby('Category')['n Total Prevalence'].mean()"
   ]
  },
  {
   "cell_type": "code",
   "execution_count": 88,
   "id": "e330bfb3",
   "metadata": {},
   "outputs": [
    {
     "data": {
      "text/plain": [
       "Category\n",
       "0     1960.845395\n",
       "1    67379.111111\n",
       "Name: n Female Prevalence, dtype: float64"
      ]
     },
     "execution_count": 88,
     "metadata": {},
     "output_type": "execute_result"
    }
   ],
   "source": [
    "BloodDonorSeroprevalenceTrimmed.groupby('Category')['n Female Prevalence'].mean()"
   ]
  },
  {
   "cell_type": "code",
   "execution_count": 89,
   "id": "b143ebc3",
   "metadata": {},
   "outputs": [
    {
     "data": {
      "text/plain": [
       "Category\n",
       "0     1926.233553\n",
       "1    66663.000000\n",
       "Name: n Male Prevalence, dtype: float64"
      ]
     },
     "execution_count": 89,
     "metadata": {},
     "output_type": "execute_result"
    }
   ],
   "source": [
    "BloodDonorSeroprevalenceTrimmed.groupby('Category')['n Male Prevalence'].mean()"
   ]
  },
  {
   "cell_type": "code",
   "execution_count": 90,
   "id": "46e0695b",
   "metadata": {},
   "outputs": [
    {
     "data": {
      "text/plain": [
       "Category\n",
       "0     1411.734375\n",
       "1    48608.055556\n",
       "Name: n 50-64 Years Prevalence, dtype: float64"
      ]
     },
     "execution_count": 90,
     "metadata": {},
     "output_type": "execute_result"
    }
   ],
   "source": [
    "BloodDonorSeroprevalenceTrimmed.groupby('Category')['n 50-64 Years Prevalence'].mean()"
   ]
  },
  {
   "cell_type": "code",
   "execution_count": 91,
   "id": "1ca964b6",
   "metadata": {},
   "outputs": [
    {
     "data": {
      "text/plain": [
       "Category\n",
       "0     1169.083882\n",
       "1    40576.666667\n",
       "Name: n 30-49 Years Prevalence, dtype: float64"
      ]
     },
     "execution_count": 91,
     "metadata": {},
     "output_type": "execute_result"
    }
   ],
   "source": [
    "BloodDonorSeroprevalenceTrimmed.groupby('Category')['n 30-49 Years Prevalence'].mean()"
   ]
  },
  {
   "cell_type": "code",
   "execution_count": 92,
   "id": "ae3b71ca",
   "metadata": {},
   "outputs": [
    {
     "data": {
      "text/plain": [
       "Category\n",
       "0      471.025493\n",
       "1    16330.777778\n",
       "Name: n 16-29 Years Prevalence, dtype: float64"
      ]
     },
     "execution_count": 92,
     "metadata": {},
     "output_type": "execute_result"
    }
   ],
   "source": [
    "BloodDonorSeroprevalenceTrimmed.groupby('Category')['n 16-29 Years Prevalence'].mean()"
   ]
  },
  {
   "cell_type": "code",
   "execution_count": 93,
   "id": "a61df0c2",
   "metadata": {},
   "outputs": [
    {
     "data": {
      "text/plain": [
       "0    1216\n",
       "1      18\n",
       "Name: Category, dtype: int64"
      ]
     },
     "execution_count": 93,
     "metadata": {},
     "output_type": "execute_result"
    }
   ],
   "source": [
    "BloodDonorSeroprevalenceTrimmed.Category.value_counts()"
   ]
  },
  {
   "cell_type": "markdown",
   "id": "9a170600",
   "metadata": {},
   "source": [
    "## Testing 3 Clusters"
   ]
  },
  {
   "cell_type": "code",
   "execution_count": 94,
   "id": "2cf9f830",
   "metadata": {},
   "outputs": [
    {
     "data": {
      "text/plain": [
       "KMeans(n_clusters=3)"
      ]
     },
     "execution_count": 94,
     "metadata": {},
     "output_type": "execute_result"
    }
   ],
   "source": [
    "kmeans = KMeans(n_clusters=3)\n",
    "kmeans.fit(BloodDonorSeroprevalenceTrimmed)"
   ]
  },
  {
   "cell_type": "code",
   "execution_count": 95,
   "id": "731ea3a7",
   "metadata": {},
   "outputs": [],
   "source": [
    "BloodDonorSeroprevalenceTrimmed['Group'] = kmeans.labels_"
   ]
  },
  {
   "cell_type": "code",
   "execution_count": 96,
   "id": "dece973e",
   "metadata": {},
   "outputs": [
    {
     "data": {
      "text/html": [
       "<div>\n",
       "<style scoped>\n",
       "    .dataframe tbody tr th:only-of-type {\n",
       "        vertical-align: middle;\n",
       "    }\n",
       "\n",
       "    .dataframe tbody tr th {\n",
       "        vertical-align: top;\n",
       "    }\n",
       "\n",
       "    .dataframe thead th {\n",
       "        text-align: right;\n",
       "    }\n",
       "</style>\n",
       "<table border=\"1\" class=\"dataframe\">\n",
       "  <thead>\n",
       "    <tr style=\"text-align: right;\">\n",
       "      <th></th>\n",
       "      <th>n Total Prevalence</th>\n",
       "      <th>n Female Prevalence</th>\n",
       "      <th>n Male Prevalence</th>\n",
       "      <th>n 50-64 Years Prevalence</th>\n",
       "      <th>n 30-49 Years Prevalence</th>\n",
       "      <th>n 16-29 Years Prevalence</th>\n",
       "      <th>Category</th>\n",
       "      <th>Group</th>\n",
       "    </tr>\n",
       "  </thead>\n",
       "  <tbody>\n",
       "    <tr>\n",
       "      <th>0</th>\n",
       "      <td>1422</td>\n",
       "      <td>737</td>\n",
       "      <td>685</td>\n",
       "      <td>504</td>\n",
       "      <td>512</td>\n",
       "      <td>179</td>\n",
       "      <td>0</td>\n",
       "      <td>0</td>\n",
       "    </tr>\n",
       "    <tr>\n",
       "      <th>1</th>\n",
       "      <td>1070</td>\n",
       "      <td>583</td>\n",
       "      <td>487</td>\n",
       "      <td>362</td>\n",
       "      <td>389</td>\n",
       "      <td>136</td>\n",
       "      <td>0</td>\n",
       "      <td>0</td>\n",
       "    </tr>\n",
       "    <tr>\n",
       "      <th>2</th>\n",
       "      <td>3599</td>\n",
       "      <td>1987</td>\n",
       "      <td>1612</td>\n",
       "      <td>1266</td>\n",
       "      <td>1310</td>\n",
       "      <td>480</td>\n",
       "      <td>0</td>\n",
       "      <td>0</td>\n",
       "    </tr>\n",
       "    <tr>\n",
       "      <th>3</th>\n",
       "      <td>1230</td>\n",
       "      <td>658</td>\n",
       "      <td>572</td>\n",
       "      <td>466</td>\n",
       "      <td>416</td>\n",
       "      <td>136</td>\n",
       "      <td>0</td>\n",
       "      <td>0</td>\n",
       "    </tr>\n",
       "    <tr>\n",
       "      <th>4</th>\n",
       "      <td>1439</td>\n",
       "      <td>793</td>\n",
       "      <td>646</td>\n",
       "      <td>450</td>\n",
       "      <td>585</td>\n",
       "      <td>216</td>\n",
       "      <td>0</td>\n",
       "      <td>0</td>\n",
       "    </tr>\n",
       "  </tbody>\n",
       "</table>\n",
       "</div>"
      ],
      "text/plain": [
       "   n Total Prevalence  n Female Prevalence  n Male Prevalence  \\\n",
       "0                1422                  737                685   \n",
       "1                1070                  583                487   \n",
       "2                3599                 1987               1612   \n",
       "3                1230                  658                572   \n",
       "4                1439                  793                646   \n",
       "\n",
       "   n 50-64 Years Prevalence  n 30-49 Years Prevalence  \\\n",
       "0                       504                       512   \n",
       "1                       362                       389   \n",
       "2                      1266                      1310   \n",
       "3                       466                       416   \n",
       "4                       450                       585   \n",
       "\n",
       "   n 16-29 Years Prevalence  Category  Group  \n",
       "0                       179         0      0  \n",
       "1                       136         0      0  \n",
       "2                       480         0      0  \n",
       "3                       136         0      0  \n",
       "4                       216         0      0  "
      ]
     },
     "execution_count": 96,
     "metadata": {},
     "output_type": "execute_result"
    }
   ],
   "source": [
    "BloodDonorSeroprevalenceTrimmed.head()"
   ]
  },
  {
   "cell_type": "code",
   "execution_count": 97,
   "id": "3129ddf5",
   "metadata": {},
   "outputs": [
    {
     "data": {
      "text/html": [
       "<div>\n",
       "<style scoped>\n",
       "    .dataframe tbody tr th:only-of-type {\n",
       "        vertical-align: middle;\n",
       "    }\n",
       "\n",
       "    .dataframe tbody tr th {\n",
       "        vertical-align: top;\n",
       "    }\n",
       "\n",
       "    .dataframe thead th {\n",
       "        text-align: right;\n",
       "    }\n",
       "</style>\n",
       "<table border=\"1\" class=\"dataframe\">\n",
       "  <thead>\n",
       "    <tr style=\"text-align: right;\">\n",
       "      <th></th>\n",
       "      <th>n Total Prevalence</th>\n",
       "      <th>n Female Prevalence</th>\n",
       "      <th>n Male Prevalence</th>\n",
       "      <th>n 50-64 Years Prevalence</th>\n",
       "      <th>n 30-49 Years Prevalence</th>\n",
       "      <th>n 16-29 Years Prevalence</th>\n",
       "      <th>Category</th>\n",
       "    </tr>\n",
       "    <tr>\n",
       "      <th>Group</th>\n",
       "      <th></th>\n",
       "      <th></th>\n",
       "      <th></th>\n",
       "      <th></th>\n",
       "      <th></th>\n",
       "      <th></th>\n",
       "      <th></th>\n",
       "    </tr>\n",
       "  </thead>\n",
       "  <tbody>\n",
       "    <tr>\n",
       "      <th>0</th>\n",
       "      <td>2053.223776</td>\n",
       "      <td>1035.908217</td>\n",
       "      <td>1017.315559</td>\n",
       "      <td>745.842657</td>\n",
       "      <td>616.805944</td>\n",
       "      <td>248.833916</td>\n",
       "      <td>0.0</td>\n",
       "    </tr>\n",
       "    <tr>\n",
       "      <th>1</th>\n",
       "      <td>134042.111111</td>\n",
       "      <td>67379.111111</td>\n",
       "      <td>66663.000000</td>\n",
       "      <td>48608.055556</td>\n",
       "      <td>40576.666667</td>\n",
       "      <td>16330.777778</td>\n",
       "      <td>1.0</td>\n",
       "    </tr>\n",
       "    <tr>\n",
       "      <th>2</th>\n",
       "      <td>33025.000000</td>\n",
       "      <td>16657.069444</td>\n",
       "      <td>16367.930556</td>\n",
       "      <td>11992.013889</td>\n",
       "      <td>9944.166667</td>\n",
       "      <td>4001.402778</td>\n",
       "      <td>0.0</td>\n",
       "    </tr>\n",
       "  </tbody>\n",
       "</table>\n",
       "</div>"
      ],
      "text/plain": [
       "       n Total Prevalence  n Female Prevalence  n Male Prevalence  \\\n",
       "Group                                                               \n",
       "0             2053.223776          1035.908217        1017.315559   \n",
       "1           134042.111111         67379.111111       66663.000000   \n",
       "2            33025.000000         16657.069444       16367.930556   \n",
       "\n",
       "       n 50-64 Years Prevalence  n 30-49 Years Prevalence  \\\n",
       "Group                                                       \n",
       "0                    745.842657                616.805944   \n",
       "1                  48608.055556              40576.666667   \n",
       "2                  11992.013889               9944.166667   \n",
       "\n",
       "       n 16-29 Years Prevalence  Category  \n",
       "Group                                      \n",
       "0                    248.833916       0.0  \n",
       "1                  16330.777778       1.0  \n",
       "2                   4001.402778       0.0  "
      ]
     },
     "execution_count": 97,
     "metadata": {},
     "output_type": "execute_result"
    }
   ],
   "source": [
    "BloodDonorSeroprevalenceTrimmed.groupby('Group').mean()"
   ]
  },
  {
   "cell_type": "markdown",
   "id": "a6bd504d",
   "metadata": {},
   "source": [
    "## Utilizing K-Means "
   ]
  },
  {
   "cell_type": "code",
   "execution_count": 98,
   "id": "33fae602",
   "metadata": {},
   "outputs": [
    {
     "data": {
      "text/plain": [
       "<matplotlib.collections.PathCollection at 0x1f24e808e20>"
      ]
     },
     "execution_count": 98,
     "metadata": {},
     "output_type": "execute_result"
    },
    {
     "data": {
      "image/png": "[encoded data removed]",
      "text/plain": [
       "<Figure size 720x432 with 1 Axes>"
      ]
     },
     "metadata": {
      "needs_background": "light"
     },
     "output_type": "display_data"
    }
   ],
   "source": [
    "plt.figure(figsize=(10,6))\n",
    "plt.title('K Means')\n",
    "plt.scatter(BloodDonorSeroprevalenceTrimmed['n 50-64 Years Prevalence'], BloodDonorSeroprevalenceTrimmed['n 30-49 Years Prevalence'], c=kmeans.labels_, cmap='viridis')"
   ]
  },
  {
   "cell_type": "code",
   "execution_count": 99,
   "id": "2539713d",
   "metadata": {},
   "outputs": [
    {
     "data": {
      "text/plain": [
       "array([0, 0, 0, ..., 1, 1, 1])"
      ]
     },
     "execution_count": 99,
     "metadata": {},
     "output_type": "execute_result"
    }
   ],
   "source": [
    "kmeans.labels_"
   ]
  },
  {
   "cell_type": "code",
   "execution_count": 100,
   "id": "313b16f4",
   "metadata": {},
   "outputs": [],
   "source": [
    "BloodDonorSeroprevalenceTrimmed['Group'] = kmeans.labels_"
   ]
  },
  {
   "cell_type": "code",
   "execution_count": 101,
   "id": "94df3f39",
   "metadata": {},
   "outputs": [
    {
     "data": {
      "text/plain": [
       "array([[ 2.05322378e+03,  1.03590822e+03,  1.01731556e+03,\n",
       "         7.45842657e+02,  6.16805944e+02,  2.48833916e+02,\n",
       "         3.29597460e-17,  3.29597460e-17],\n",
       "       [ 1.34042111e+05,  6.73791111e+04,  6.66630000e+04,\n",
       "         4.86080556e+04,  4.05766667e+04,  1.63307778e+04,\n",
       "         1.00000000e+00,  1.00000000e+00],\n",
       "       [ 3.30250000e+04,  1.66570694e+04,  1.63679306e+04,\n",
       "         1.19920139e+04,  9.94416667e+03,  4.00140278e+03,\n",
       "        -2.25514052e-17, -2.25514052e-17]])"
      ]
     },
     "execution_count": 101,
     "metadata": {},
     "output_type": "execute_result"
    }
   ],
   "source": [
    "kmeans.cluster_centers_"
   ]
  },
  {
   "cell_type": "code",
   "execution_count": 102,
   "id": "1281a2c1",
   "metadata": {},
   "outputs": [
    {
     "data": {
      "text/plain": [
       "9898682829.42327"
      ]
     },
     "execution_count": 102,
     "metadata": {},
     "output_type": "execute_result"
    }
   ],
   "source": [
    "kmeans.inertia_"
   ]
  },
  {
   "cell_type": "code",
   "execution_count": 103,
   "id": "7c7f551c",
   "metadata": {},
   "outputs": [
    {
     "data": {
      "text/plain": [
       "<matplotlib.collections.PathCollection at 0x1f24e86f730>"
      ]
     },
     "execution_count": 103,
     "metadata": {},
     "output_type": "execute_result"
    },
    {
     "data": {
      "image/png": "[encoded data removed]",
      "text/plain": [
       "<Figure size 720x432 with 1 Axes>"
      ]
     },
     "metadata": {
      "needs_background": "light"
     },
     "output_type": "display_data"
    }
   ],
   "source": [
    "plt.figure(figsize=(10,6))\n",
    "plt.title('K Means')\n",
    "plt.scatter(BloodDonorSeroprevalenceTrimmed['n Female Prevalence'], BloodDonorSeroprevalenceTrimmed['n 30-49 Years Prevalence'], c=kmeans.labels_, cmap='viridis')"
   ]
  },
  {
   "cell_type": "code",
   "execution_count": null,
   "id": "c13c4148",
   "metadata": {},
   "outputs": [],
   "source": []
  },
  {
   "cell_type": "code",
   "execution_count": null,
   "id": "7bd5e18b",
   "metadata": {},
   "outputs": [],
   "source": []
  },
  {
   "cell_type": "code",
   "execution_count": null,
   "id": "45a0d249",
   "metadata": {},
   "outputs": [],
   "source": []
  }
 ],
 "metadata": {
  "kernelspec": {
   "display_name": "Python 3 (ipykernel)",
   "language": "python",
   "name": "python3"
  },
  "language_info": {
   "codemirror_mode": {
    "name": "ipython",
    "version": 3
   },
   "file_extension": ".py",
   "mimetype": "text/x-python",
   "name": "python",
   "nbconvert_exporter": "python",
   "pygments_lexer": "ipython3",
   "version": "3.9.12"
  }
 },
 "nbformat": 4,
 "nbformat_minor": 5
}
